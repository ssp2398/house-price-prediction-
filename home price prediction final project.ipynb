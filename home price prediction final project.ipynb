{
 "cells": [
  {
   "cell_type": "markdown",
   "id": "a17cd7b5",
   "metadata": {},
   "source": [
    "# Chennai House Price Prediction"
   ]
  },
  {
   "cell_type": "markdown",
   "id": "26979cf9",
   "metadata": {},
   "source": [
    "# Problem Statement\n"
   ]
  },
  {
   "cell_type": "markdown",
   "id": "881600e0",
   "metadata": {},
   "source": [
    "Real estate transactions are quite opaque sometimes and it may be difficult for a newbie to know the fair price of any given home. Thus, multiple real estate websites have the functionality to predict the prices of houses given different features regarding it. Such forecasting models will help buyers to identify a fair price for the home and also give insights to sellers as to how to build homes that fetch them more money. Chennai house sale price data is shared here and the participants are expected to build a sale price prediction model that will aid the customers to find a fair price for their homes and also help the sellers understand what factors are fetching more money for the houses?"
   ]
  },
  {
   "cell_type": "markdown",
   "id": "6549fb55",
   "metadata": {},
   "source": [
    "# Minimum Requirements\n",
    "It is not sufficient to just fit a model - the model must be analysed to find the important factors that contribute towards the price. Also, it will be better to give a forecast range (range of permissible values) rather than a single estimate as it will help the customers to negotiate.\n"
   ]
  },
  {
   "cell_type": "markdown",
   "id": "76527875",
   "metadata": {},
   "source": [
    "let's start with importing Libraries"
   ]
  },
  {
   "cell_type": "code",
   "execution_count": 1,
   "id": "b97014ac",
   "metadata": {},
   "outputs": [],
   "source": [
    "import pandas as pd \n",
    "import numpy as np\n",
    "import  matplotlib.pyplot as plt\n",
    "import seaborn as sns\n",
    "import warnings\n",
    "warnings.filterwarnings('ignore')\n",
    "from sklearn.preprocessing import LabelEncoder,OneHotEncoder\n",
    "from sklearn.compose import make_column_transformer\n",
    "from sklearn.pipeline import make_pipeline\n",
    "from sklearn.model_selection import train_test_split\n",
    "from sklearn.linear_model import LinearRegression"
   ]
  },
  {
   "cell_type": "markdown",
   "id": "d79e613d",
   "metadata": {},
   "source": [
    "importing dataset"
   ]
  },
  {
   "cell_type": "code",
   "execution_count": 2,
   "id": "3b8fbf2b",
   "metadata": {},
   "outputs": [
    {
     "data": {
      "text/html": [
       "<div>\n",
       "<style scoped>\n",
       "    .dataframe tbody tr th:only-of-type {\n",
       "        vertical-align: middle;\n",
       "    }\n",
       "\n",
       "    .dataframe tbody tr th {\n",
       "        vertical-align: top;\n",
       "    }\n",
       "\n",
       "    .dataframe thead th {\n",
       "        text-align: right;\n",
       "    }\n",
       "</style>\n",
       "<table border=\"1\" class=\"dataframe\">\n",
       "  <thead>\n",
       "    <tr style=\"text-align: right;\">\n",
       "      <th></th>\n",
       "      <th>PRT_ID</th>\n",
       "      <th>AREA</th>\n",
       "      <th>INT_SQFT</th>\n",
       "      <th>DATE_SALE</th>\n",
       "      <th>DIST_MAINROAD</th>\n",
       "      <th>N_BEDROOM</th>\n",
       "      <th>N_BATHROOM</th>\n",
       "      <th>N_ROOM</th>\n",
       "      <th>SALE_COND</th>\n",
       "      <th>PARK_FACIL</th>\n",
       "      <th>...</th>\n",
       "      <th>UTILITY_AVAIL</th>\n",
       "      <th>STREET</th>\n",
       "      <th>MZZONE</th>\n",
       "      <th>QS_ROOMS</th>\n",
       "      <th>QS_BATHROOM</th>\n",
       "      <th>QS_BEDROOM</th>\n",
       "      <th>QS_OVERALL</th>\n",
       "      <th>REG_FEE</th>\n",
       "      <th>COMMIS</th>\n",
       "      <th>SALES_PRICE</th>\n",
       "    </tr>\n",
       "  </thead>\n",
       "  <tbody>\n",
       "    <tr>\n",
       "      <th>0</th>\n",
       "      <td>P03210</td>\n",
       "      <td>Karapakkam</td>\n",
       "      <td>1004</td>\n",
       "      <td>04-05-2011</td>\n",
       "      <td>131</td>\n",
       "      <td>1.0</td>\n",
       "      <td>1.0</td>\n",
       "      <td>3</td>\n",
       "      <td>AbNormal</td>\n",
       "      <td>Yes</td>\n",
       "      <td>...</td>\n",
       "      <td>AllPub</td>\n",
       "      <td>Paved</td>\n",
       "      <td>A</td>\n",
       "      <td>4.0</td>\n",
       "      <td>3.9</td>\n",
       "      <td>4.9</td>\n",
       "      <td>4.330</td>\n",
       "      <td>380000</td>\n",
       "      <td>144400</td>\n",
       "      <td>7600000</td>\n",
       "    </tr>\n",
       "    <tr>\n",
       "      <th>1</th>\n",
       "      <td>P09411</td>\n",
       "      <td>Anna Nagar</td>\n",
       "      <td>1986</td>\n",
       "      <td>19-12-2006</td>\n",
       "      <td>26</td>\n",
       "      <td>2.0</td>\n",
       "      <td>1.0</td>\n",
       "      <td>5</td>\n",
       "      <td>AbNormal</td>\n",
       "      <td>No</td>\n",
       "      <td>...</td>\n",
       "      <td>AllPub</td>\n",
       "      <td>Gravel</td>\n",
       "      <td>RH</td>\n",
       "      <td>4.9</td>\n",
       "      <td>4.2</td>\n",
       "      <td>2.5</td>\n",
       "      <td>3.765</td>\n",
       "      <td>760122</td>\n",
       "      <td>304049</td>\n",
       "      <td>21717770</td>\n",
       "    </tr>\n",
       "    <tr>\n",
       "      <th>2</th>\n",
       "      <td>P01812</td>\n",
       "      <td>Adyar</td>\n",
       "      <td>909</td>\n",
       "      <td>04-02-2012</td>\n",
       "      <td>70</td>\n",
       "      <td>1.0</td>\n",
       "      <td>1.0</td>\n",
       "      <td>3</td>\n",
       "      <td>AbNormal</td>\n",
       "      <td>Yes</td>\n",
       "      <td>...</td>\n",
       "      <td>ELO</td>\n",
       "      <td>Gravel</td>\n",
       "      <td>RL</td>\n",
       "      <td>4.1</td>\n",
       "      <td>3.8</td>\n",
       "      <td>2.2</td>\n",
       "      <td>3.090</td>\n",
       "      <td>421094</td>\n",
       "      <td>92114</td>\n",
       "      <td>13159200</td>\n",
       "    </tr>\n",
       "    <tr>\n",
       "      <th>3</th>\n",
       "      <td>P05346</td>\n",
       "      <td>Velachery</td>\n",
       "      <td>1855</td>\n",
       "      <td>13-03-2010</td>\n",
       "      <td>14</td>\n",
       "      <td>3.0</td>\n",
       "      <td>2.0</td>\n",
       "      <td>5</td>\n",
       "      <td>Family</td>\n",
       "      <td>No</td>\n",
       "      <td>...</td>\n",
       "      <td>NoSewr</td>\n",
       "      <td>Paved</td>\n",
       "      <td>I</td>\n",
       "      <td>4.7</td>\n",
       "      <td>3.9</td>\n",
       "      <td>3.6</td>\n",
       "      <td>4.010</td>\n",
       "      <td>356321</td>\n",
       "      <td>77042</td>\n",
       "      <td>9630290</td>\n",
       "    </tr>\n",
       "    <tr>\n",
       "      <th>4</th>\n",
       "      <td>P06210</td>\n",
       "      <td>Karapakkam</td>\n",
       "      <td>1226</td>\n",
       "      <td>05-10-2009</td>\n",
       "      <td>84</td>\n",
       "      <td>1.0</td>\n",
       "      <td>1.0</td>\n",
       "      <td>3</td>\n",
       "      <td>AbNormal</td>\n",
       "      <td>Yes</td>\n",
       "      <td>...</td>\n",
       "      <td>AllPub</td>\n",
       "      <td>Gravel</td>\n",
       "      <td>C</td>\n",
       "      <td>3.0</td>\n",
       "      <td>2.5</td>\n",
       "      <td>4.1</td>\n",
       "      <td>3.290</td>\n",
       "      <td>237000</td>\n",
       "      <td>74063</td>\n",
       "      <td>7406250</td>\n",
       "    </tr>\n",
       "  </tbody>\n",
       "</table>\n",
       "<p>5 rows × 22 columns</p>\n",
       "</div>"
      ],
      "text/plain": [
       "   PRT_ID        AREA  INT_SQFT   DATE_SALE  DIST_MAINROAD  N_BEDROOM  \\\n",
       "0  P03210  Karapakkam      1004  04-05-2011            131        1.0   \n",
       "1  P09411  Anna Nagar      1986  19-12-2006             26        2.0   \n",
       "2  P01812       Adyar       909  04-02-2012             70        1.0   \n",
       "3  P05346   Velachery      1855  13-03-2010             14        3.0   \n",
       "4  P06210  Karapakkam      1226  05-10-2009             84        1.0   \n",
       "\n",
       "   N_BATHROOM  N_ROOM SALE_COND PARK_FACIL  ... UTILITY_AVAIL  STREET MZZONE  \\\n",
       "0         1.0       3  AbNormal        Yes  ...        AllPub   Paved      A   \n",
       "1         1.0       5  AbNormal         No  ...        AllPub  Gravel     RH   \n",
       "2         1.0       3  AbNormal        Yes  ...           ELO  Gravel     RL   \n",
       "3         2.0       5    Family         No  ...       NoSewr    Paved      I   \n",
       "4         1.0       3  AbNormal        Yes  ...        AllPub  Gravel      C   \n",
       "\n",
       "  QS_ROOMS QS_BATHROOM  QS_BEDROOM  QS_OVERALL  REG_FEE  COMMIS  SALES_PRICE  \n",
       "0      4.0         3.9         4.9       4.330   380000  144400      7600000  \n",
       "1      4.9         4.2         2.5       3.765   760122  304049     21717770  \n",
       "2      4.1         3.8         2.2       3.090   421094   92114     13159200  \n",
       "3      4.7         3.9         3.6       4.010   356321   77042      9630290  \n",
       "4      3.0         2.5         4.1       3.290   237000   74063      7406250  \n",
       "\n",
       "[5 rows x 22 columns]"
      ]
     },
     "execution_count": 2,
     "metadata": {},
     "output_type": "execute_result"
    }
   ],
   "source": [
    "df=pd.read_csv('train-chennai-sale.csv',)\n",
    "df.head()"
   ]
  },
  {
   "cell_type": "code",
   "execution_count": 3,
   "id": "5983c5b5",
   "metadata": {},
   "outputs": [
    {
     "name": "stdout",
     "output_type": "stream",
     "text": [
      "<class 'pandas.core.frame.DataFrame'>\n",
      "RangeIndex: 7109 entries, 0 to 7108\n",
      "Data columns (total 22 columns):\n",
      " #   Column         Non-Null Count  Dtype  \n",
      "---  ------         --------------  -----  \n",
      " 0   PRT_ID         7109 non-null   object \n",
      " 1   AREA           7109 non-null   object \n",
      " 2   INT_SQFT       7109 non-null   int64  \n",
      " 3   DATE_SALE      7109 non-null   object \n",
      " 4   DIST_MAINROAD  7109 non-null   int64  \n",
      " 5   N_BEDROOM      7108 non-null   float64\n",
      " 6   N_BATHROOM     7104 non-null   float64\n",
      " 7   N_ROOM         7109 non-null   int64  \n",
      " 8   SALE_COND      7109 non-null   object \n",
      " 9   PARK_FACIL     7109 non-null   object \n",
      " 10  DATE_BUILD     7109 non-null   object \n",
      " 11  BUILDTYPE      7109 non-null   object \n",
      " 12  UTILITY_AVAIL  7109 non-null   object \n",
      " 13  STREET         7109 non-null   object \n",
      " 14  MZZONE         7109 non-null   object \n",
      " 15  QS_ROOMS       7109 non-null   float64\n",
      " 16  QS_BATHROOM    7109 non-null   float64\n",
      " 17  QS_BEDROOM     7109 non-null   float64\n",
      " 18  QS_OVERALL     7061 non-null   float64\n",
      " 19  REG_FEE        7109 non-null   int64  \n",
      " 20  COMMIS         7109 non-null   int64  \n",
      " 21  SALES_PRICE    7109 non-null   int64  \n",
      "dtypes: float64(6), int64(6), object(10)\n",
      "memory usage: 1.2+ MB\n"
     ]
    }
   ],
   "source": [
    "df.info()"
   ]
  },
  {
   "cell_type": "code",
   "execution_count": 4,
   "id": "d021996f",
   "metadata": {},
   "outputs": [
    {
     "name": "stdout",
     "output_type": "stream",
     "text": [
      "<class 'pandas.core.frame.DataFrame'>\n",
      "RangeIndex: 7109 entries, 0 to 7108\n",
      "Data columns (total 22 columns):\n",
      " #   Column         Non-Null Count  Dtype         \n",
      "---  ------         --------------  -----         \n",
      " 0   PRT_ID         7109 non-null   object        \n",
      " 1   AREA           7109 non-null   object        \n",
      " 2   INT_SQFT       7109 non-null   int64         \n",
      " 3   DATE_SALE      7109 non-null   datetime64[ns]\n",
      " 4   DIST_MAINROAD  7109 non-null   int64         \n",
      " 5   N_BEDROOM      7108 non-null   float64       \n",
      " 6   N_BATHROOM     7104 non-null   float64       \n",
      " 7   N_ROOM         7109 non-null   int64         \n",
      " 8   SALE_COND      7109 non-null   object        \n",
      " 9   PARK_FACIL     7109 non-null   object        \n",
      " 10  DATE_BUILD     7109 non-null   datetime64[ns]\n",
      " 11  BUILDTYPE      7109 non-null   object        \n",
      " 12  UTILITY_AVAIL  7109 non-null   object        \n",
      " 13  STREET         7109 non-null   object        \n",
      " 14  MZZONE         7109 non-null   object        \n",
      " 15  QS_ROOMS       7109 non-null   float64       \n",
      " 16  QS_BATHROOM    7109 non-null   float64       \n",
      " 17  QS_BEDROOM     7109 non-null   float64       \n",
      " 18  QS_OVERALL     7061 non-null   float64       \n",
      " 19  REG_FEE        7109 non-null   int64         \n",
      " 20  COMMIS         7109 non-null   int64         \n",
      " 21  SALES_PRICE    7109 non-null   int64         \n",
      "dtypes: datetime64[ns](2), float64(6), int64(6), object(8)\n",
      "memory usage: 1.2+ MB\n"
     ]
    }
   ],
   "source": [
    "## we will change the dtype of date sales and date build into date_time \n",
    "convert_dict = {'DATE_SALE': 'datetime64[ns]',\n",
    "                'DATE_BUILD': 'datetime64[ns]'\n",
    "                }\n",
    "df=df.astype(convert_dict)\n",
    "df.info()"
   ]
  },
  {
   "cell_type": "code",
   "execution_count": 5,
   "id": "e91de98a",
   "metadata": {},
   "outputs": [
    {
     "data": {
      "text/plain": [
       "PRT_ID            0\n",
       "AREA              0\n",
       "INT_SQFT          0\n",
       "DATE_SALE         0\n",
       "DIST_MAINROAD     0\n",
       "N_BEDROOM         1\n",
       "N_BATHROOM        5\n",
       "N_ROOM            0\n",
       "SALE_COND         0\n",
       "PARK_FACIL        0\n",
       "DATE_BUILD        0\n",
       "BUILDTYPE         0\n",
       "UTILITY_AVAIL     0\n",
       "STREET            0\n",
       "MZZONE            0\n",
       "QS_ROOMS          0\n",
       "QS_BATHROOM       0\n",
       "QS_BEDROOM        0\n",
       "QS_OVERALL       48\n",
       "REG_FEE           0\n",
       "COMMIS            0\n",
       "SALES_PRICE       0\n",
       "dtype: int64"
      ]
     },
     "execution_count": 5,
     "metadata": {},
     "output_type": "execute_result"
    }
   ],
   "source": [
    "df.isnull().sum()"
   ]
  },
  {
   "cell_type": "markdown",
   "id": "f46e26a3",
   "metadata": {},
   "source": [
    "for fill the null values we will find out which method is best "
   ]
  },
  {
   "cell_type": "code",
   "execution_count": 6,
   "id": "5cb0a606",
   "metadata": {},
   "outputs": [
    {
     "data": {
      "image/png": "[encoded data removed]",
      "text/plain": [
       "<Figure size 720x288 with 1 Axes>"
      ]
     },
     "metadata": {
      "needs_background": "light"
     },
     "output_type": "display_data"
    }
   ],
   "source": [
    "plt.figure(figsize=(10,4))\n",
    "sns.boxplot(df.N_BEDROOM)\n",
    "plt.show()"
   ]
  },
  {
   "cell_type": "code",
   "execution_count": 7,
   "id": "a23b1485",
   "metadata": {},
   "outputs": [
    {
     "data": {
      "image/png": "[encoded data removed]",
      "text/plain": [
       "<Figure size 720x288 with 1 Axes>"
      ]
     },
     "metadata": {
      "needs_background": "light"
     },
     "output_type": "display_data"
    }
   ],
   "source": [
    "plt.figure(figsize=(10,4))\n",
    "sns.boxplot(df.N_BATHROOM)\n",
    "plt.show()"
   ]
  },
  {
   "cell_type": "code",
   "execution_count": 8,
   "id": "94b3d83b",
   "metadata": {},
   "outputs": [
    {
     "data": {
      "image/png": "[encoded data removed]",
      "text/plain": [
       "<Figure size 720x288 with 1 Axes>"
      ]
     },
     "metadata": {
      "needs_background": "light"
     },
     "output_type": "display_data"
    }
   ],
   "source": [
    "plt.figure(figsize=(10,4))\n",
    "sns.boxplot(df.QS_OVERALL)\n",
    "plt.show()"
   ]
  },
  {
   "cell_type": "code",
   "execution_count": 9,
   "id": "41b14926",
   "metadata": {},
   "outputs": [],
   "source": [
    "df['N_BEDROOM'].fillna(df.N_BEDROOM.mode()[0], inplace=True)\n",
    "df['N_BATHROOM'].fillna(df.N_BATHROOM.mode()[0], inplace=True)\n",
    "df['QS_OVERALL'].fillna(df.QS_OVERALL.mean(),inplace=True)"
   ]
  },
  {
   "cell_type": "code",
   "execution_count": 10,
   "id": "8a2b1dc0",
   "metadata": {},
   "outputs": [
    {
     "data": {
      "text/plain": [
       "PRT_ID           0\n",
       "AREA             0\n",
       "INT_SQFT         0\n",
       "DATE_SALE        0\n",
       "DIST_MAINROAD    0\n",
       "N_BEDROOM        0\n",
       "N_BATHROOM       0\n",
       "N_ROOM           0\n",
       "SALE_COND        0\n",
       "PARK_FACIL       0\n",
       "DATE_BUILD       0\n",
       "BUILDTYPE        0\n",
       "UTILITY_AVAIL    0\n",
       "STREET           0\n",
       "MZZONE           0\n",
       "QS_ROOMS         0\n",
       "QS_BATHROOM      0\n",
       "QS_BEDROOM       0\n",
       "QS_OVERALL       0\n",
       "REG_FEE          0\n",
       "COMMIS           0\n",
       "SALES_PRICE      0\n",
       "dtype: int64"
      ]
     },
     "execution_count": 10,
     "metadata": {},
     "output_type": "execute_result"
    }
   ],
   "source": [
    "df.isnull().sum()"
   ]
  },
  {
   "cell_type": "code",
   "execution_count": 11,
   "id": "79ddd93c",
   "metadata": {},
   "outputs": [
    {
     "data": {
      "text/plain": [
       "array(['Karapakkam', 'Anna Nagar', 'Adyar', 'Velachery', 'Chrompet',\n",
       "       'KK Nagar', 'TNagar', 'T Nagar', 'Chrompt', 'Chrmpet', 'Karapakam',\n",
       "       'Ana Nagar', 'Chormpet', 'Adyr', 'Velchery', 'Ann Nagar',\n",
       "       'KKNagar'], dtype=object)"
      ]
     },
     "execution_count": 11,
     "metadata": {},
     "output_type": "execute_result"
    }
   ],
   "source": [
    "df.AREA.unique()"
   ]
  },
  {
   "cell_type": "markdown",
   "id": "82363f05",
   "metadata": {},
   "source": [
    "here we can see clear some  spelling mistake in AREA column so we will correct them  \n"
   ]
  },
  {
   "cell_type": "code",
   "execution_count": 12,
   "id": "fa4e091f",
   "metadata": {},
   "outputs": [],
   "source": [
    "df.replace({'AREA' : { 'Ana Nagar':'Anna Nagar', 'TNagar' :'T Nagar','Ann Nagar':'Anna Nagar','Chrmpet':'Chrompet','Karapakam':'Karapakkam','Chrompt':'Chrompet','Chormpet':'Chrompet','Ann Nagar':'Anna Nagar','Velchery':'Velachery','Adyr':'Adyar','KKNagar':'KK Nagar',}},inplace=True)"
   ]
  },
  {
   "cell_type": "code",
   "execution_count": 13,
   "id": "5a907d4e",
   "metadata": {},
   "outputs": [
    {
     "data": {
      "text/plain": [
       "array(['Karapakkam', 'Anna Nagar', 'Adyar', 'Velachery', 'Chrompet',\n",
       "       'KK Nagar', 'T Nagar'], dtype=object)"
      ]
     },
     "execution_count": 13,
     "metadata": {},
     "output_type": "execute_result"
    }
   ],
   "source": [
    "df.AREA.unique()"
   ]
  },
  {
   "cell_type": "markdown",
   "id": "716f703e",
   "metadata": {},
   "source": [
    "lets find out the sale price corresponding to area "
   ]
  },
  {
   "cell_type": "code",
   "execution_count": 14,
   "id": "665ae720",
   "metadata": {},
   "outputs": [
    {
     "data": {
      "image/png": "[encoded data removed]",
      "text/plain": [
       "<Figure size 432x288 with 1 Axes>"
      ]
     },
     "metadata": {
      "needs_background": "light"
     },
     "output_type": "display_data"
    }
   ],
   "source": [
    "plt.bar(df.AREA,df.SALES_PRICE,width=0.5)\n",
    "plt.show()"
   ]
  },
  {
   "cell_type": "code",
   "execution_count": 15,
   "id": "bc39a5cf",
   "metadata": {},
   "outputs": [
    {
     "data": {
      "text/plain": [
       "<matplotlib.collections.PathCollection at 0x1642b1b2970>"
      ]
     },
     "execution_count": 15,
     "metadata": {},
     "output_type": "execute_result"
    },
    {
     "data": {
      "image/png": "[encoded data removed]",
      "text/plain": [
       "<Figure size 432x288 with 1 Axes>"
      ]
     },
     "metadata": {
      "needs_background": "light"
     },
     "output_type": "display_data"
    }
   ],
   "source": [
    "plt.scatter(x=df.AREA,y=df.SALES_PRICE)"
   ]
  },
  {
   "cell_type": "code",
   "execution_count": 16,
   "id": "8cf30eb2",
   "metadata": {},
   "outputs": [],
   "source": [
    "df.replace({'AREA':{'Karapakkam':0,'Anna Nagar':6, 'Adyar':4, 'Velachery':2, 'Chrompet':1,\n",
    "       'KK Nagar':3, 'T Nagar':5}},inplace=True)"
   ]
  },
  {
   "cell_type": "code",
   "execution_count": 17,
   "id": "e93ee816",
   "metadata": {},
   "outputs": [
    {
     "data": {
      "image/png": "[encoded data removed]",
      "text/plain": [
       "<Figure size 1152x648 with 2 Axes>"
      ]
     },
     "metadata": {
      "needs_background": "light"
     },
     "output_type": "display_data"
    }
   ],
   "source": [
    "plt.figure(figsize=(16,9))\n",
    "plt.subplot(2,1,1)\n",
    "plt.bar(df.AREA,df.INT_SQFT)\n",
    "\n",
    "plt.subplot(2,1,2)\n",
    "plt.scatter(df.INT_SQFT,df.SALES_PRICE)\n",
    "plt.show()"
   ]
  },
  {
   "cell_type": "markdown",
   "id": "d5cfe1e7",
   "metadata": {},
   "source": [
    "bigger the area has high sales price but also depends on location('AREA')"
   ]
  },
  {
   "cell_type": "code",
   "execution_count": 18,
   "id": "c841ced4",
   "metadata": {},
   "outputs": [],
   "source": [
    "## create the sold_after_days column which will show us after build  how many days it was sold out \n",
    "df['sold_after_days']= df['DATE_SALE']-df['DATE_BUILD'] "
   ]
  },
  {
   "cell_type": "code",
   "execution_count": 19,
   "id": "a2395481",
   "metadata": {},
   "outputs": [
    {
     "data": {
      "text/plain": [
       "0       16031 days\n",
       "1        4015 days\n",
       "2        7152 days\n",
       "3        8030 days\n",
       "4       10802 days\n",
       "           ...    \n",
       "7104    17942 days\n",
       "7105     3196 days\n",
       "7106    10455 days\n",
       "7107    11443 days\n",
       "7108    16060 days\n",
       "Name: sold_after_days, Length: 7109, dtype: object"
      ]
     },
     "execution_count": 19,
     "metadata": {},
     "output_type": "execute_result"
    }
   ],
   "source": [
    "df['sold_after_days']=df['sold_after_days'].astype(str)\n",
    "df['sold_after_days']"
   ]
  },
  {
   "cell_type": "code",
   "execution_count": 20,
   "id": "5321485b",
   "metadata": {},
   "outputs": [
    {
     "data": {
      "text/html": [
       "<div>\n",
       "<style scoped>\n",
       "    .dataframe tbody tr th:only-of-type {\n",
       "        vertical-align: middle;\n",
       "    }\n",
       "\n",
       "    .dataframe tbody tr th {\n",
       "        vertical-align: top;\n",
       "    }\n",
       "\n",
       "    .dataframe thead th {\n",
       "        text-align: right;\n",
       "    }\n",
       "</style>\n",
       "<table border=\"1\" class=\"dataframe\">\n",
       "  <thead>\n",
       "    <tr style=\"text-align: right;\">\n",
       "      <th></th>\n",
       "      <th>PRT_ID</th>\n",
       "      <th>AREA</th>\n",
       "      <th>INT_SQFT</th>\n",
       "      <th>DATE_SALE</th>\n",
       "      <th>DIST_MAINROAD</th>\n",
       "      <th>N_BEDROOM</th>\n",
       "      <th>N_BATHROOM</th>\n",
       "      <th>N_ROOM</th>\n",
       "      <th>SALE_COND</th>\n",
       "      <th>PARK_FACIL</th>\n",
       "      <th>...</th>\n",
       "      <th>STREET</th>\n",
       "      <th>MZZONE</th>\n",
       "      <th>QS_ROOMS</th>\n",
       "      <th>QS_BATHROOM</th>\n",
       "      <th>QS_BEDROOM</th>\n",
       "      <th>QS_OVERALL</th>\n",
       "      <th>REG_FEE</th>\n",
       "      <th>COMMIS</th>\n",
       "      <th>SALES_PRICE</th>\n",
       "      <th>sold_after_days</th>\n",
       "    </tr>\n",
       "  </thead>\n",
       "  <tbody>\n",
       "    <tr>\n",
       "      <th>0</th>\n",
       "      <td>P03210</td>\n",
       "      <td>0</td>\n",
       "      <td>1004</td>\n",
       "      <td>2011-04-05</td>\n",
       "      <td>131</td>\n",
       "      <td>1.0</td>\n",
       "      <td>1.0</td>\n",
       "      <td>3</td>\n",
       "      <td>AbNormal</td>\n",
       "      <td>Yes</td>\n",
       "      <td>...</td>\n",
       "      <td>Paved</td>\n",
       "      <td>A</td>\n",
       "      <td>4.0</td>\n",
       "      <td>3.9</td>\n",
       "      <td>4.9</td>\n",
       "      <td>4.330</td>\n",
       "      <td>380000</td>\n",
       "      <td>144400</td>\n",
       "      <td>7600000</td>\n",
       "      <td>16031 days</td>\n",
       "    </tr>\n",
       "    <tr>\n",
       "      <th>1</th>\n",
       "      <td>P09411</td>\n",
       "      <td>6</td>\n",
       "      <td>1986</td>\n",
       "      <td>2006-12-19</td>\n",
       "      <td>26</td>\n",
       "      <td>2.0</td>\n",
       "      <td>1.0</td>\n",
       "      <td>5</td>\n",
       "      <td>AbNormal</td>\n",
       "      <td>No</td>\n",
       "      <td>...</td>\n",
       "      <td>Gravel</td>\n",
       "      <td>RH</td>\n",
       "      <td>4.9</td>\n",
       "      <td>4.2</td>\n",
       "      <td>2.5</td>\n",
       "      <td>3.765</td>\n",
       "      <td>760122</td>\n",
       "      <td>304049</td>\n",
       "      <td>21717770</td>\n",
       "      <td>4015 days</td>\n",
       "    </tr>\n",
       "    <tr>\n",
       "      <th>2</th>\n",
       "      <td>P01812</td>\n",
       "      <td>4</td>\n",
       "      <td>909</td>\n",
       "      <td>2012-04-02</td>\n",
       "      <td>70</td>\n",
       "      <td>1.0</td>\n",
       "      <td>1.0</td>\n",
       "      <td>3</td>\n",
       "      <td>AbNormal</td>\n",
       "      <td>Yes</td>\n",
       "      <td>...</td>\n",
       "      <td>Gravel</td>\n",
       "      <td>RL</td>\n",
       "      <td>4.1</td>\n",
       "      <td>3.8</td>\n",
       "      <td>2.2</td>\n",
       "      <td>3.090</td>\n",
       "      <td>421094</td>\n",
       "      <td>92114</td>\n",
       "      <td>13159200</td>\n",
       "      <td>7152 days</td>\n",
       "    </tr>\n",
       "    <tr>\n",
       "      <th>3</th>\n",
       "      <td>P05346</td>\n",
       "      <td>2</td>\n",
       "      <td>1855</td>\n",
       "      <td>2010-03-13</td>\n",
       "      <td>14</td>\n",
       "      <td>3.0</td>\n",
       "      <td>2.0</td>\n",
       "      <td>5</td>\n",
       "      <td>Family</td>\n",
       "      <td>No</td>\n",
       "      <td>...</td>\n",
       "      <td>Paved</td>\n",
       "      <td>I</td>\n",
       "      <td>4.7</td>\n",
       "      <td>3.9</td>\n",
       "      <td>3.6</td>\n",
       "      <td>4.010</td>\n",
       "      <td>356321</td>\n",
       "      <td>77042</td>\n",
       "      <td>9630290</td>\n",
       "      <td>8030 days</td>\n",
       "    </tr>\n",
       "    <tr>\n",
       "      <th>4</th>\n",
       "      <td>P06210</td>\n",
       "      <td>0</td>\n",
       "      <td>1226</td>\n",
       "      <td>2009-05-10</td>\n",
       "      <td>84</td>\n",
       "      <td>1.0</td>\n",
       "      <td>1.0</td>\n",
       "      <td>3</td>\n",
       "      <td>AbNormal</td>\n",
       "      <td>Yes</td>\n",
       "      <td>...</td>\n",
       "      <td>Gravel</td>\n",
       "      <td>C</td>\n",
       "      <td>3.0</td>\n",
       "      <td>2.5</td>\n",
       "      <td>4.1</td>\n",
       "      <td>3.290</td>\n",
       "      <td>237000</td>\n",
       "      <td>74063</td>\n",
       "      <td>7406250</td>\n",
       "      <td>10802 days</td>\n",
       "    </tr>\n",
       "  </tbody>\n",
       "</table>\n",
       "<p>5 rows × 23 columns</p>\n",
       "</div>"
      ],
      "text/plain": [
       "   PRT_ID  AREA  INT_SQFT  DATE_SALE  DIST_MAINROAD  N_BEDROOM  N_BATHROOM  \\\n",
       "0  P03210     0      1004 2011-04-05            131        1.0         1.0   \n",
       "1  P09411     6      1986 2006-12-19             26        2.0         1.0   \n",
       "2  P01812     4       909 2012-04-02             70        1.0         1.0   \n",
       "3  P05346     2      1855 2010-03-13             14        3.0         2.0   \n",
       "4  P06210     0      1226 2009-05-10             84        1.0         1.0   \n",
       "\n",
       "   N_ROOM SALE_COND PARK_FACIL  ...  STREET MZZONE QS_ROOMS QS_BATHROOM  \\\n",
       "0       3  AbNormal        Yes  ...   Paved      A      4.0         3.9   \n",
       "1       5  AbNormal         No  ...  Gravel     RH      4.9         4.2   \n",
       "2       3  AbNormal        Yes  ...  Gravel     RL      4.1         3.8   \n",
       "3       5    Family         No  ...   Paved      I      4.7         3.9   \n",
       "4       3  AbNormal        Yes  ...  Gravel      C      3.0         2.5   \n",
       "\n",
       "  QS_BEDROOM  QS_OVERALL  REG_FEE  COMMIS  SALES_PRICE  sold_after_days  \n",
       "0        4.9       4.330   380000  144400      7600000       16031 days  \n",
       "1        2.5       3.765   760122  304049     21717770        4015 days  \n",
       "2        2.2       3.090   421094   92114     13159200        7152 days  \n",
       "3        3.6       4.010   356321   77042      9630290        8030 days  \n",
       "4        4.1       3.290   237000   74063      7406250       10802 days  \n",
       "\n",
       "[5 rows x 23 columns]"
      ]
     },
     "execution_count": 20,
     "metadata": {},
     "output_type": "execute_result"
    }
   ],
   "source": [
    "df.head()"
   ]
  },
  {
   "cell_type": "code",
   "execution_count": 21,
   "id": "749f4b66",
   "metadata": {},
   "outputs": [],
   "source": [
    "df['sold_after_days']=df['sold_after_days'].str.split(' ').str.get(0)\n",
    "df['sold_after_days']=df['sold_after_days'].astype(int)"
   ]
  },
  {
   "cell_type": "markdown",
   "id": "0e554112",
   "metadata": {},
   "source": [
    "we will create column where we will indicate the commission and registration fees in percentage of sales price\n"
   ]
  },
  {
   "cell_type": "code",
   "execution_count": 22,
   "id": "6f3a1232",
   "metadata": {},
   "outputs": [],
   "source": [
    "df['COMMISSION']=(df['COMMIS']/df['SALES_PRICE'])*100\n",
    "df['registration']=(df['REG_FEE']/df['SALES_PRICE'])*100"
   ]
  },
  {
   "cell_type": "code",
   "execution_count": 23,
   "id": "dd733d56",
   "metadata": {},
   "outputs": [],
   "source": [
    "##now we can drop the PRT_ID ,date_sale,build_date , COMMIS and REG_FEE columns\n",
    "\n",
    "df.drop(['PRT_ID','DATE_SALE','DATE_BUILD','COMMIS','REG_FEE'],axis=1,inplace=True)"
   ]
  },
  {
   "cell_type": "code",
   "execution_count": 24,
   "id": "8485fafa",
   "metadata": {},
   "outputs": [
    {
     "data": {
      "text/html": [
       "<div>\n",
       "<style scoped>\n",
       "    .dataframe tbody tr th:only-of-type {\n",
       "        vertical-align: middle;\n",
       "    }\n",
       "\n",
       "    .dataframe tbody tr th {\n",
       "        vertical-align: top;\n",
       "    }\n",
       "\n",
       "    .dataframe thead th {\n",
       "        text-align: right;\n",
       "    }\n",
       "</style>\n",
       "<table border=\"1\" class=\"dataframe\">\n",
       "  <thead>\n",
       "    <tr style=\"text-align: right;\">\n",
       "      <th></th>\n",
       "      <th>AREA</th>\n",
       "      <th>INT_SQFT</th>\n",
       "      <th>DIST_MAINROAD</th>\n",
       "      <th>N_BEDROOM</th>\n",
       "      <th>N_BATHROOM</th>\n",
       "      <th>N_ROOM</th>\n",
       "      <th>SALE_COND</th>\n",
       "      <th>PARK_FACIL</th>\n",
       "      <th>BUILDTYPE</th>\n",
       "      <th>UTILITY_AVAIL</th>\n",
       "      <th>STREET</th>\n",
       "      <th>MZZONE</th>\n",
       "      <th>QS_ROOMS</th>\n",
       "      <th>QS_BATHROOM</th>\n",
       "      <th>QS_BEDROOM</th>\n",
       "      <th>QS_OVERALL</th>\n",
       "      <th>SALES_PRICE</th>\n",
       "      <th>sold_after_days</th>\n",
       "      <th>COMMISSION</th>\n",
       "      <th>registration</th>\n",
       "    </tr>\n",
       "  </thead>\n",
       "  <tbody>\n",
       "    <tr>\n",
       "      <th>0</th>\n",
       "      <td>0</td>\n",
       "      <td>1004</td>\n",
       "      <td>131</td>\n",
       "      <td>1.0</td>\n",
       "      <td>1.0</td>\n",
       "      <td>3</td>\n",
       "      <td>AbNormal</td>\n",
       "      <td>Yes</td>\n",
       "      <td>Commercial</td>\n",
       "      <td>AllPub</td>\n",
       "      <td>Paved</td>\n",
       "      <td>A</td>\n",
       "      <td>4.0</td>\n",
       "      <td>3.9</td>\n",
       "      <td>4.9</td>\n",
       "      <td>4.330</td>\n",
       "      <td>7600000</td>\n",
       "      <td>16031</td>\n",
       "      <td>1.900000</td>\n",
       "      <td>5.000000</td>\n",
       "    </tr>\n",
       "    <tr>\n",
       "      <th>1</th>\n",
       "      <td>6</td>\n",
       "      <td>1986</td>\n",
       "      <td>26</td>\n",
       "      <td>2.0</td>\n",
       "      <td>1.0</td>\n",
       "      <td>5</td>\n",
       "      <td>AbNormal</td>\n",
       "      <td>No</td>\n",
       "      <td>Commercial</td>\n",
       "      <td>AllPub</td>\n",
       "      <td>Gravel</td>\n",
       "      <td>RH</td>\n",
       "      <td>4.9</td>\n",
       "      <td>4.2</td>\n",
       "      <td>2.5</td>\n",
       "      <td>3.765</td>\n",
       "      <td>21717770</td>\n",
       "      <td>4015</td>\n",
       "      <td>1.400001</td>\n",
       "      <td>3.500000</td>\n",
       "    </tr>\n",
       "    <tr>\n",
       "      <th>2</th>\n",
       "      <td>4</td>\n",
       "      <td>909</td>\n",
       "      <td>70</td>\n",
       "      <td>1.0</td>\n",
       "      <td>1.0</td>\n",
       "      <td>3</td>\n",
       "      <td>AbNormal</td>\n",
       "      <td>Yes</td>\n",
       "      <td>Commercial</td>\n",
       "      <td>ELO</td>\n",
       "      <td>Gravel</td>\n",
       "      <td>RL</td>\n",
       "      <td>4.1</td>\n",
       "      <td>3.8</td>\n",
       "      <td>2.2</td>\n",
       "      <td>3.090</td>\n",
       "      <td>13159200</td>\n",
       "      <td>7152</td>\n",
       "      <td>0.699997</td>\n",
       "      <td>3.199997</td>\n",
       "    </tr>\n",
       "    <tr>\n",
       "      <th>3</th>\n",
       "      <td>2</td>\n",
       "      <td>1855</td>\n",
       "      <td>14</td>\n",
       "      <td>3.0</td>\n",
       "      <td>2.0</td>\n",
       "      <td>5</td>\n",
       "      <td>Family</td>\n",
       "      <td>No</td>\n",
       "      <td>Others</td>\n",
       "      <td>NoSewr</td>\n",
       "      <td>Paved</td>\n",
       "      <td>I</td>\n",
       "      <td>4.7</td>\n",
       "      <td>3.9</td>\n",
       "      <td>3.6</td>\n",
       "      <td>4.010</td>\n",
       "      <td>9630290</td>\n",
       "      <td>8030</td>\n",
       "      <td>0.799997</td>\n",
       "      <td>3.700003</td>\n",
       "    </tr>\n",
       "    <tr>\n",
       "      <th>4</th>\n",
       "      <td>0</td>\n",
       "      <td>1226</td>\n",
       "      <td>84</td>\n",
       "      <td>1.0</td>\n",
       "      <td>1.0</td>\n",
       "      <td>3</td>\n",
       "      <td>AbNormal</td>\n",
       "      <td>Yes</td>\n",
       "      <td>Others</td>\n",
       "      <td>AllPub</td>\n",
       "      <td>Gravel</td>\n",
       "      <td>C</td>\n",
       "      <td>3.0</td>\n",
       "      <td>2.5</td>\n",
       "      <td>4.1</td>\n",
       "      <td>3.290</td>\n",
       "      <td>7406250</td>\n",
       "      <td>10802</td>\n",
       "      <td>1.000007</td>\n",
       "      <td>3.200000</td>\n",
       "    </tr>\n",
       "    <tr>\n",
       "      <th>...</th>\n",
       "      <td>...</td>\n",
       "      <td>...</td>\n",
       "      <td>...</td>\n",
       "      <td>...</td>\n",
       "      <td>...</td>\n",
       "      <td>...</td>\n",
       "      <td>...</td>\n",
       "      <td>...</td>\n",
       "      <td>...</td>\n",
       "      <td>...</td>\n",
       "      <td>...</td>\n",
       "      <td>...</td>\n",
       "      <td>...</td>\n",
       "      <td>...</td>\n",
       "      <td>...</td>\n",
       "      <td>...</td>\n",
       "      <td>...</td>\n",
       "      <td>...</td>\n",
       "      <td>...</td>\n",
       "      <td>...</td>\n",
       "    </tr>\n",
       "    <tr>\n",
       "      <th>7104</th>\n",
       "      <td>0</td>\n",
       "      <td>598</td>\n",
       "      <td>51</td>\n",
       "      <td>1.0</td>\n",
       "      <td>1.0</td>\n",
       "      <td>2</td>\n",
       "      <td>AdjLand</td>\n",
       "      <td>No</td>\n",
       "      <td>Others</td>\n",
       "      <td>ELO</td>\n",
       "      <td>No Access</td>\n",
       "      <td>RM</td>\n",
       "      <td>3.0</td>\n",
       "      <td>2.2</td>\n",
       "      <td>2.4</td>\n",
       "      <td>2.520</td>\n",
       "      <td>5353000</td>\n",
       "      <td>17942</td>\n",
       "      <td>2.000000</td>\n",
       "      <td>3.900000</td>\n",
       "    </tr>\n",
       "    <tr>\n",
       "      <th>7105</th>\n",
       "      <td>2</td>\n",
       "      <td>1897</td>\n",
       "      <td>52</td>\n",
       "      <td>3.0</td>\n",
       "      <td>2.0</td>\n",
       "      <td>5</td>\n",
       "      <td>Family</td>\n",
       "      <td>Yes</td>\n",
       "      <td>Others</td>\n",
       "      <td>NoSeWa</td>\n",
       "      <td>No Access</td>\n",
       "      <td>RH</td>\n",
       "      <td>3.6</td>\n",
       "      <td>4.5</td>\n",
       "      <td>3.3</td>\n",
       "      <td>3.920</td>\n",
       "      <td>10818480</td>\n",
       "      <td>3196</td>\n",
       "      <td>1.899999</td>\n",
       "      <td>3.199997</td>\n",
       "    </tr>\n",
       "    <tr>\n",
       "      <th>7106</th>\n",
       "      <td>2</td>\n",
       "      <td>1614</td>\n",
       "      <td>152</td>\n",
       "      <td>2.0</td>\n",
       "      <td>1.0</td>\n",
       "      <td>4</td>\n",
       "      <td>Normal Sale</td>\n",
       "      <td>No</td>\n",
       "      <td>House</td>\n",
       "      <td>NoSeWa</td>\n",
       "      <td>Gravel</td>\n",
       "      <td>I</td>\n",
       "      <td>4.3</td>\n",
       "      <td>4.2</td>\n",
       "      <td>2.9</td>\n",
       "      <td>3.840</td>\n",
       "      <td>8351410</td>\n",
       "      <td>10455</td>\n",
       "      <td>1.999998</td>\n",
       "      <td>3.800005</td>\n",
       "    </tr>\n",
       "    <tr>\n",
       "      <th>7107</th>\n",
       "      <td>0</td>\n",
       "      <td>787</td>\n",
       "      <td>40</td>\n",
       "      <td>1.0</td>\n",
       "      <td>1.0</td>\n",
       "      <td>2</td>\n",
       "      <td>Partial</td>\n",
       "      <td>Yes</td>\n",
       "      <td>Commercial</td>\n",
       "      <td>ELO</td>\n",
       "      <td>Paved</td>\n",
       "      <td>RL</td>\n",
       "      <td>4.6</td>\n",
       "      <td>3.8</td>\n",
       "      <td>4.1</td>\n",
       "      <td>4.160</td>\n",
       "      <td>8507000</td>\n",
       "      <td>11443</td>\n",
       "      <td>1.400000</td>\n",
       "      <td>5.000000</td>\n",
       "    </tr>\n",
       "    <tr>\n",
       "      <th>7108</th>\n",
       "      <td>2</td>\n",
       "      <td>1896</td>\n",
       "      <td>156</td>\n",
       "      <td>3.0</td>\n",
       "      <td>2.0</td>\n",
       "      <td>5</td>\n",
       "      <td>Partial</td>\n",
       "      <td>Yes</td>\n",
       "      <td>Others</td>\n",
       "      <td>ELO</td>\n",
       "      <td>Paved</td>\n",
       "      <td>I</td>\n",
       "      <td>3.1</td>\n",
       "      <td>3.5</td>\n",
       "      <td>4.3</td>\n",
       "      <td>3.640</td>\n",
       "      <td>9976480</td>\n",
       "      <td>16060</td>\n",
       "      <td>0.800002</td>\n",
       "      <td>3.500002</td>\n",
       "    </tr>\n",
       "  </tbody>\n",
       "</table>\n",
       "<p>7109 rows × 20 columns</p>\n",
       "</div>"
      ],
      "text/plain": [
       "      AREA  INT_SQFT  DIST_MAINROAD  N_BEDROOM  N_BATHROOM  N_ROOM  \\\n",
       "0        0      1004            131        1.0         1.0       3   \n",
       "1        6      1986             26        2.0         1.0       5   \n",
       "2        4       909             70        1.0         1.0       3   \n",
       "3        2      1855             14        3.0         2.0       5   \n",
       "4        0      1226             84        1.0         1.0       3   \n",
       "...    ...       ...            ...        ...         ...     ...   \n",
       "7104     0       598             51        1.0         1.0       2   \n",
       "7105     2      1897             52        3.0         2.0       5   \n",
       "7106     2      1614            152        2.0         1.0       4   \n",
       "7107     0       787             40        1.0         1.0       2   \n",
       "7108     2      1896            156        3.0         2.0       5   \n",
       "\n",
       "        SALE_COND PARK_FACIL   BUILDTYPE UTILITY_AVAIL     STREET MZZONE  \\\n",
       "0        AbNormal        Yes  Commercial        AllPub      Paved      A   \n",
       "1        AbNormal         No  Commercial        AllPub     Gravel     RH   \n",
       "2        AbNormal        Yes  Commercial           ELO     Gravel     RL   \n",
       "3          Family         No      Others       NoSewr       Paved      I   \n",
       "4        AbNormal        Yes      Others        AllPub     Gravel      C   \n",
       "...           ...        ...         ...           ...        ...    ...   \n",
       "7104      AdjLand         No      Others           ELO  No Access     RM   \n",
       "7105       Family        Yes      Others        NoSeWa  No Access     RH   \n",
       "7106  Normal Sale         No       House        NoSeWa     Gravel      I   \n",
       "7107      Partial        Yes  Commercial           ELO      Paved     RL   \n",
       "7108      Partial        Yes      Others           ELO      Paved      I   \n",
       "\n",
       "      QS_ROOMS  QS_BATHROOM  QS_BEDROOM  QS_OVERALL  SALES_PRICE  \\\n",
       "0          4.0          3.9         4.9       4.330      7600000   \n",
       "1          4.9          4.2         2.5       3.765     21717770   \n",
       "2          4.1          3.8         2.2       3.090     13159200   \n",
       "3          4.7          3.9         3.6       4.010      9630290   \n",
       "4          3.0          2.5         4.1       3.290      7406250   \n",
       "...        ...          ...         ...         ...          ...   \n",
       "7104       3.0          2.2         2.4       2.520      5353000   \n",
       "7105       3.6          4.5         3.3       3.920     10818480   \n",
       "7106       4.3          4.2         2.9       3.840      8351410   \n",
       "7107       4.6          3.8         4.1       4.160      8507000   \n",
       "7108       3.1          3.5         4.3       3.640      9976480   \n",
       "\n",
       "      sold_after_days  COMMISSION  registration  \n",
       "0               16031    1.900000      5.000000  \n",
       "1                4015    1.400001      3.500000  \n",
       "2                7152    0.699997      3.199997  \n",
       "3                8030    0.799997      3.700003  \n",
       "4               10802    1.000007      3.200000  \n",
       "...               ...         ...           ...  \n",
       "7104            17942    2.000000      3.900000  \n",
       "7105             3196    1.899999      3.199997  \n",
       "7106            10455    1.999998      3.800005  \n",
       "7107            11443    1.400000      5.000000  \n",
       "7108            16060    0.800002      3.500002  \n",
       "\n",
       "[7109 rows x 20 columns]"
      ]
     },
     "execution_count": 24,
     "metadata": {},
     "output_type": "execute_result"
    }
   ],
   "source": [
    "df"
   ]
  },
  {
   "cell_type": "code",
   "execution_count": 25,
   "id": "6ff200e2",
   "metadata": {},
   "outputs": [
    {
     "data": {
      "text/plain": [
       "array(['AbNormal', 'Family', 'Partial', 'AdjLand', 'Normal Sale',\n",
       "       'Ab Normal', 'Partiall', 'Adj Land', 'PartiaLl'], dtype=object)"
      ]
     },
     "execution_count": 25,
     "metadata": {},
     "output_type": "execute_result"
    }
   ],
   "source": [
    "df.SALE_COND.unique()"
   ]
  },
  {
   "cell_type": "markdown",
   "id": "0ca4aea8",
   "metadata": {},
   "source": [
    "here also spelling mistakes in sale_cond column so we will correct them convert them into number"
   ]
  },
  {
   "cell_type": "code",
   "execution_count": 26,
   "id": "abddbaaf",
   "metadata": {},
   "outputs": [],
   "source": [
    "df.replace({'SALE_COND':{'Ab Normal':'AbNormal','Partiall':'Partial','PartiaLl':'Partial','Adj Land':'AdjLand'}},inplace=True)"
   ]
  },
  {
   "cell_type": "code",
   "execution_count": 27,
   "id": "fa9e3bf1",
   "metadata": {},
   "outputs": [
    {
     "data": {
      "image/png": "[encoded data removed]",
      "text/plain": [
       "<Figure size 1296x576 with 2 Axes>"
      ]
     },
     "metadata": {
      "needs_background": "light"
     },
     "output_type": "display_data"
    }
   ],
   "source": [
    "plt.figure(figsize=(18,8))\n",
    "plt.subplot(2,1,1)\n",
    "plt.bar(df.SALE_COND,df.SALES_PRICE,width=0.5)\n",
    "\n",
    "plt.subplot(2,1,2)\n",
    "plt.scatter(df.SALE_COND,df.SALES_PRICE)\n",
    "plt.show()"
   ]
  },
  {
   "cell_type": "markdown",
   "id": "4592910b",
   "metadata": {},
   "source": [
    "sALE_COND does not affect the sale_price"
   ]
  },
  {
   "cell_type": "code",
   "execution_count": 28,
   "id": "2e00cf9f",
   "metadata": {},
   "outputs": [],
   "source": [
    "df.replace({'SALE_COND':{'AbNormal':1,'Family':2,'Partial':3,'AdjLand':4,'Normal Sale':5}},inplace=True)"
   ]
  },
  {
   "cell_type": "code",
   "execution_count": 29,
   "id": "ccc28e86",
   "metadata": {},
   "outputs": [
    {
     "data": {
      "text/plain": [
       "array(['Yes', 'No', 'Noo'], dtype=object)"
      ]
     },
     "execution_count": 29,
     "metadata": {},
     "output_type": "execute_result"
    }
   ],
   "source": [
    "df.PARK_FACIL.unique()"
   ]
  },
  {
   "cell_type": "code",
   "execution_count": 30,
   "id": "bdf9986d",
   "metadata": {},
   "outputs": [],
   "source": [
    "df.replace({'PARK_FACIL':{'Noo':'No'}},inplace=True)\n",
    "df.replace({'PARK_FACIL':{'Yes':1,'No':0}},inplace=True)"
   ]
  },
  {
   "cell_type": "code",
   "execution_count": 31,
   "id": "c997ff66",
   "metadata": {},
   "outputs": [
    {
     "data": {
      "image/png": "[encoded data removed]",
      "text/plain": [
       "<Figure size 432x288 with 1 Axes>"
      ]
     },
     "metadata": {
      "needs_background": "light"
     },
     "output_type": "display_data"
    }
   ],
   "source": [
    "plt.scatter(df.PARK_FACIL,df.SALES_PRICE)\n",
    "plt.show()"
   ]
  },
  {
   "cell_type": "code",
   "execution_count": 32,
   "id": "e0432832",
   "metadata": {},
   "outputs": [
    {
     "data": {
      "text/plain": [
       "array(['Commercial', 'Others', 'Other', 'House', 'Comercial'],\n",
       "      dtype=object)"
      ]
     },
     "execution_count": 32,
     "metadata": {},
     "output_type": "execute_result"
    }
   ],
   "source": [
    "df.BUILDTYPE.unique()"
   ]
  },
  {
   "cell_type": "code",
   "execution_count": 33,
   "id": "68b3b19f",
   "metadata": {},
   "outputs": [
    {
     "data": {
      "text/plain": [
       "array(['Commercial', 'Other', 'House'], dtype=object)"
      ]
     },
     "execution_count": 33,
     "metadata": {},
     "output_type": "execute_result"
    }
   ],
   "source": [
    "df.replace({'BUILDTYPE':{'Comercial':'Commercial','Others':'Other'}},inplace=True)\n",
    "df.BUILDTYPE.unique()"
   ]
  },
  {
   "cell_type": "code",
   "execution_count": 34,
   "id": "2f869dd2",
   "metadata": {},
   "outputs": [
    {
     "data": {
      "image/png": "[encoded data removed]",
      "text/plain": [
       "<Figure size 1296x576 with 2 Axes>"
      ]
     },
     "metadata": {
      "needs_background": "light"
     },
     "output_type": "display_data"
    }
   ],
   "source": [
    "plt.figure(figsize=(18,8))\n",
    "plt.subplot(2,1,1)\n",
    "plt.bar(df.BUILDTYPE,df.SALES_PRICE,width=0.5)\n",
    "\n",
    "plt.subplot(2,1,2)\n",
    "plt.scatter(df.BUILDTYPE,df.SALES_PRICE)\n",
    "plt.show()"
   ]
  },
  {
   "cell_type": "code",
   "execution_count": 35,
   "id": "f1b9858a",
   "metadata": {},
   "outputs": [],
   "source": [
    "df.replace({'BUILDTYPE':{'Commercial':2, 'Other':1, 'House':0}},inplace=True)"
   ]
  },
  {
   "cell_type": "code",
   "execution_count": 36,
   "id": "241006b2",
   "metadata": {},
   "outputs": [
    {
     "data": {
      "text/plain": [
       "array(['AllPub', 'ELO', 'NoSewr ', 'NoSeWa', 'All Pub'], dtype=object)"
      ]
     },
     "execution_count": 36,
     "metadata": {},
     "output_type": "execute_result"
    }
   ],
   "source": [
    "df.UTILITY_AVAIL.unique()"
   ]
  },
  {
   "cell_type": "code",
   "execution_count": 37,
   "id": "422c9399",
   "metadata": {},
   "outputs": [],
   "source": [
    "df.replace({'UTILITY_AVAIL':{'All Pub':'AllPub','NoSewr ':'NoSeWa'}},inplace=True)"
   ]
  },
  {
   "cell_type": "code",
   "execution_count": 38,
   "id": "8a2205e6",
   "metadata": {},
   "outputs": [
    {
     "data": {
      "image/png": "[encoded data removed]",
      "text/plain": [
       "<Figure size 1296x576 with 2 Axes>"
      ]
     },
     "metadata": {
      "needs_background": "light"
     },
     "output_type": "display_data"
    }
   ],
   "source": [
    "plt.figure(figsize=(18,8))\n",
    "plt.subplot(2,1,1)\n",
    "plt.bar(df.UTILITY_AVAIL,df.SALES_PRICE,width=0.5)\n",
    "\n",
    "plt.subplot(2,1,2)\n",
    "plt.scatter(df.UTILITY_AVAIL,df.SALES_PRICE)\n",
    "plt.show()"
   ]
  },
  {
   "cell_type": "markdown",
   "id": "577e6739",
   "metadata": {},
   "source": [
    "UTILITY_AVAIL does not affecting sales price"
   ]
  },
  {
   "cell_type": "code",
   "execution_count": 39,
   "id": "8ecf38bc",
   "metadata": {},
   "outputs": [],
   "source": [
    "df.replace({'UTILITY_AVAIL':{'AllPub':1,'ELO':2,'NoSeWa':3}},inplace=True)"
   ]
  },
  {
   "cell_type": "code",
   "execution_count": 40,
   "id": "e1999dcc",
   "metadata": {},
   "outputs": [
    {
     "data": {
      "text/plain": [
       "array(['Paved', 'Gravel', 'No Access', 'Pavd', 'NoAccess'], dtype=object)"
      ]
     },
     "execution_count": 40,
     "metadata": {},
     "output_type": "execute_result"
    }
   ],
   "source": [
    "df.STREET.unique()"
   ]
  },
  {
   "cell_type": "code",
   "execution_count": 41,
   "id": "d0835754",
   "metadata": {},
   "outputs": [],
   "source": [
    "df.replace({'STREET':{'Pavd':'Paved','No Access':'NoAccess'}},inplace=True)"
   ]
  },
  {
   "cell_type": "code",
   "execution_count": 42,
   "id": "e7975779",
   "metadata": {},
   "outputs": [
    {
     "data": {
      "image/png": "[encoded data removed]",
      "text/plain": [
       "<Figure size 1296x576 with 2 Axes>"
      ]
     },
     "metadata": {
      "needs_background": "light"
     },
     "output_type": "display_data"
    }
   ],
   "source": [
    "plt.figure(figsize=(18,8))\n",
    "plt.subplot(2,1,1)\n",
    "plt.bar(df.STREET,df.SALES_PRICE,width=0.5)\n",
    "\n",
    "plt.subplot(2,1,2)\n",
    "plt.scatter(df.STREET,df.SALES_PRICE)\n",
    "plt.show()"
   ]
  },
  {
   "cell_type": "markdown",
   "id": "e76a874f",
   "metadata": {},
   "source": [
    "STREET type does not affecting sales price "
   ]
  },
  {
   "cell_type": "code",
   "execution_count": 43,
   "id": "3d923cd2",
   "metadata": {},
   "outputs": [],
   "source": [
    "df.replace({'STREET':{'Paved':1,'Gravel':2,'NoAccess':3}},inplace=True)"
   ]
  },
  {
   "cell_type": "code",
   "execution_count": 44,
   "id": "e7adcda5",
   "metadata": {},
   "outputs": [
    {
     "data": {
      "text/plain": [
       "array(['A', 'RH', 'RL', 'I', 'C', 'RM'], dtype=object)"
      ]
     },
     "execution_count": 44,
     "metadata": {},
     "output_type": "execute_result"
    }
   ],
   "source": [
    "df.MZZONE.unique()"
   ]
  },
  {
   "cell_type": "code",
   "execution_count": 45,
   "id": "18fd2721",
   "metadata": {},
   "outputs": [
    {
     "data": {
      "image/png": "[encoded data removed]",
      "text/plain": [
       "<Figure size 1296x576 with 2 Axes>"
      ]
     },
     "metadata": {
      "needs_background": "light"
     },
     "output_type": "display_data"
    }
   ],
   "source": [
    "plt.figure(figsize=(18,8))\n",
    "plt.subplot(2,1,1)\n",
    "plt.bar(df.MZZONE,df.SALES_PRICE,width=0.5)\n",
    "\n",
    "plt.subplot(2,1,2)\n",
    "plt.scatter(df.MZZONE,df.SALES_PRICE)\n",
    "plt.show()"
   ]
  },
  {
   "cell_type": "code",
   "execution_count": 46,
   "id": "b5f3b3d3",
   "metadata": {},
   "outputs": [],
   "source": [
    "df.replace({'MZZONE':{'A':0, 'RH':4,'RL':3, 'I':1,'C':2,'RM':5}},inplace=True)"
   ]
  },
  {
   "cell_type": "code",
   "execution_count": 47,
   "id": "5a98936c",
   "metadata": {},
   "outputs": [
    {
     "data": {
      "text/html": [
       "<div>\n",
       "<style scoped>\n",
       "    .dataframe tbody tr th:only-of-type {\n",
       "        vertical-align: middle;\n",
       "    }\n",
       "\n",
       "    .dataframe tbody tr th {\n",
       "        vertical-align: top;\n",
       "    }\n",
       "\n",
       "    .dataframe thead th {\n",
       "        text-align: right;\n",
       "    }\n",
       "</style>\n",
       "<table border=\"1\" class=\"dataframe\">\n",
       "  <thead>\n",
       "    <tr style=\"text-align: right;\">\n",
       "      <th></th>\n",
       "      <th>AREA</th>\n",
       "      <th>INT_SQFT</th>\n",
       "      <th>DIST_MAINROAD</th>\n",
       "      <th>N_BEDROOM</th>\n",
       "      <th>N_BATHROOM</th>\n",
       "      <th>N_ROOM</th>\n",
       "      <th>SALE_COND</th>\n",
       "      <th>PARK_FACIL</th>\n",
       "      <th>BUILDTYPE</th>\n",
       "      <th>UTILITY_AVAIL</th>\n",
       "      <th>STREET</th>\n",
       "      <th>MZZONE</th>\n",
       "      <th>QS_ROOMS</th>\n",
       "      <th>QS_BATHROOM</th>\n",
       "      <th>QS_BEDROOM</th>\n",
       "      <th>QS_OVERALL</th>\n",
       "      <th>SALES_PRICE</th>\n",
       "      <th>sold_after_days</th>\n",
       "      <th>COMMISSION</th>\n",
       "      <th>registration</th>\n",
       "    </tr>\n",
       "  </thead>\n",
       "  <tbody>\n",
       "    <tr>\n",
       "      <th>0</th>\n",
       "      <td>0</td>\n",
       "      <td>1004</td>\n",
       "      <td>131</td>\n",
       "      <td>1.0</td>\n",
       "      <td>1.0</td>\n",
       "      <td>3</td>\n",
       "      <td>1</td>\n",
       "      <td>1</td>\n",
       "      <td>2</td>\n",
       "      <td>1</td>\n",
       "      <td>1</td>\n",
       "      <td>0</td>\n",
       "      <td>4.0</td>\n",
       "      <td>3.9</td>\n",
       "      <td>4.9</td>\n",
       "      <td>4.330</td>\n",
       "      <td>7600000</td>\n",
       "      <td>16031</td>\n",
       "      <td>1.900000</td>\n",
       "      <td>5.000000</td>\n",
       "    </tr>\n",
       "    <tr>\n",
       "      <th>1</th>\n",
       "      <td>6</td>\n",
       "      <td>1986</td>\n",
       "      <td>26</td>\n",
       "      <td>2.0</td>\n",
       "      <td>1.0</td>\n",
       "      <td>5</td>\n",
       "      <td>1</td>\n",
       "      <td>0</td>\n",
       "      <td>2</td>\n",
       "      <td>1</td>\n",
       "      <td>2</td>\n",
       "      <td>4</td>\n",
       "      <td>4.9</td>\n",
       "      <td>4.2</td>\n",
       "      <td>2.5</td>\n",
       "      <td>3.765</td>\n",
       "      <td>21717770</td>\n",
       "      <td>4015</td>\n",
       "      <td>1.400001</td>\n",
       "      <td>3.500000</td>\n",
       "    </tr>\n",
       "    <tr>\n",
       "      <th>2</th>\n",
       "      <td>4</td>\n",
       "      <td>909</td>\n",
       "      <td>70</td>\n",
       "      <td>1.0</td>\n",
       "      <td>1.0</td>\n",
       "      <td>3</td>\n",
       "      <td>1</td>\n",
       "      <td>1</td>\n",
       "      <td>2</td>\n",
       "      <td>2</td>\n",
       "      <td>2</td>\n",
       "      <td>3</td>\n",
       "      <td>4.1</td>\n",
       "      <td>3.8</td>\n",
       "      <td>2.2</td>\n",
       "      <td>3.090</td>\n",
       "      <td>13159200</td>\n",
       "      <td>7152</td>\n",
       "      <td>0.699997</td>\n",
       "      <td>3.199997</td>\n",
       "    </tr>\n",
       "    <tr>\n",
       "      <th>3</th>\n",
       "      <td>2</td>\n",
       "      <td>1855</td>\n",
       "      <td>14</td>\n",
       "      <td>3.0</td>\n",
       "      <td>2.0</td>\n",
       "      <td>5</td>\n",
       "      <td>2</td>\n",
       "      <td>0</td>\n",
       "      <td>1</td>\n",
       "      <td>3</td>\n",
       "      <td>1</td>\n",
       "      <td>1</td>\n",
       "      <td>4.7</td>\n",
       "      <td>3.9</td>\n",
       "      <td>3.6</td>\n",
       "      <td>4.010</td>\n",
       "      <td>9630290</td>\n",
       "      <td>8030</td>\n",
       "      <td>0.799997</td>\n",
       "      <td>3.700003</td>\n",
       "    </tr>\n",
       "    <tr>\n",
       "      <th>4</th>\n",
       "      <td>0</td>\n",
       "      <td>1226</td>\n",
       "      <td>84</td>\n",
       "      <td>1.0</td>\n",
       "      <td>1.0</td>\n",
       "      <td>3</td>\n",
       "      <td>1</td>\n",
       "      <td>1</td>\n",
       "      <td>1</td>\n",
       "      <td>1</td>\n",
       "      <td>2</td>\n",
       "      <td>2</td>\n",
       "      <td>3.0</td>\n",
       "      <td>2.5</td>\n",
       "      <td>4.1</td>\n",
       "      <td>3.290</td>\n",
       "      <td>7406250</td>\n",
       "      <td>10802</td>\n",
       "      <td>1.000007</td>\n",
       "      <td>3.200000</td>\n",
       "    </tr>\n",
       "    <tr>\n",
       "      <th>...</th>\n",
       "      <td>...</td>\n",
       "      <td>...</td>\n",
       "      <td>...</td>\n",
       "      <td>...</td>\n",
       "      <td>...</td>\n",
       "      <td>...</td>\n",
       "      <td>...</td>\n",
       "      <td>...</td>\n",
       "      <td>...</td>\n",
       "      <td>...</td>\n",
       "      <td>...</td>\n",
       "      <td>...</td>\n",
       "      <td>...</td>\n",
       "      <td>...</td>\n",
       "      <td>...</td>\n",
       "      <td>...</td>\n",
       "      <td>...</td>\n",
       "      <td>...</td>\n",
       "      <td>...</td>\n",
       "      <td>...</td>\n",
       "    </tr>\n",
       "    <tr>\n",
       "      <th>7104</th>\n",
       "      <td>0</td>\n",
       "      <td>598</td>\n",
       "      <td>51</td>\n",
       "      <td>1.0</td>\n",
       "      <td>1.0</td>\n",
       "      <td>2</td>\n",
       "      <td>4</td>\n",
       "      <td>0</td>\n",
       "      <td>1</td>\n",
       "      <td>2</td>\n",
       "      <td>3</td>\n",
       "      <td>5</td>\n",
       "      <td>3.0</td>\n",
       "      <td>2.2</td>\n",
       "      <td>2.4</td>\n",
       "      <td>2.520</td>\n",
       "      <td>5353000</td>\n",
       "      <td>17942</td>\n",
       "      <td>2.000000</td>\n",
       "      <td>3.900000</td>\n",
       "    </tr>\n",
       "    <tr>\n",
       "      <th>7105</th>\n",
       "      <td>2</td>\n",
       "      <td>1897</td>\n",
       "      <td>52</td>\n",
       "      <td>3.0</td>\n",
       "      <td>2.0</td>\n",
       "      <td>5</td>\n",
       "      <td>2</td>\n",
       "      <td>1</td>\n",
       "      <td>1</td>\n",
       "      <td>3</td>\n",
       "      <td>3</td>\n",
       "      <td>4</td>\n",
       "      <td>3.6</td>\n",
       "      <td>4.5</td>\n",
       "      <td>3.3</td>\n",
       "      <td>3.920</td>\n",
       "      <td>10818480</td>\n",
       "      <td>3196</td>\n",
       "      <td>1.899999</td>\n",
       "      <td>3.199997</td>\n",
       "    </tr>\n",
       "    <tr>\n",
       "      <th>7106</th>\n",
       "      <td>2</td>\n",
       "      <td>1614</td>\n",
       "      <td>152</td>\n",
       "      <td>2.0</td>\n",
       "      <td>1.0</td>\n",
       "      <td>4</td>\n",
       "      <td>5</td>\n",
       "      <td>0</td>\n",
       "      <td>0</td>\n",
       "      <td>3</td>\n",
       "      <td>2</td>\n",
       "      <td>1</td>\n",
       "      <td>4.3</td>\n",
       "      <td>4.2</td>\n",
       "      <td>2.9</td>\n",
       "      <td>3.840</td>\n",
       "      <td>8351410</td>\n",
       "      <td>10455</td>\n",
       "      <td>1.999998</td>\n",
       "      <td>3.800005</td>\n",
       "    </tr>\n",
       "    <tr>\n",
       "      <th>7107</th>\n",
       "      <td>0</td>\n",
       "      <td>787</td>\n",
       "      <td>40</td>\n",
       "      <td>1.0</td>\n",
       "      <td>1.0</td>\n",
       "      <td>2</td>\n",
       "      <td>3</td>\n",
       "      <td>1</td>\n",
       "      <td>2</td>\n",
       "      <td>2</td>\n",
       "      <td>1</td>\n",
       "      <td>3</td>\n",
       "      <td>4.6</td>\n",
       "      <td>3.8</td>\n",
       "      <td>4.1</td>\n",
       "      <td>4.160</td>\n",
       "      <td>8507000</td>\n",
       "      <td>11443</td>\n",
       "      <td>1.400000</td>\n",
       "      <td>5.000000</td>\n",
       "    </tr>\n",
       "    <tr>\n",
       "      <th>7108</th>\n",
       "      <td>2</td>\n",
       "      <td>1896</td>\n",
       "      <td>156</td>\n",
       "      <td>3.0</td>\n",
       "      <td>2.0</td>\n",
       "      <td>5</td>\n",
       "      <td>3</td>\n",
       "      <td>1</td>\n",
       "      <td>1</td>\n",
       "      <td>2</td>\n",
       "      <td>1</td>\n",
       "      <td>1</td>\n",
       "      <td>3.1</td>\n",
       "      <td>3.5</td>\n",
       "      <td>4.3</td>\n",
       "      <td>3.640</td>\n",
       "      <td>9976480</td>\n",
       "      <td>16060</td>\n",
       "      <td>0.800002</td>\n",
       "      <td>3.500002</td>\n",
       "    </tr>\n",
       "  </tbody>\n",
       "</table>\n",
       "<p>7109 rows × 20 columns</p>\n",
       "</div>"
      ],
      "text/plain": [
       "      AREA  INT_SQFT  DIST_MAINROAD  N_BEDROOM  N_BATHROOM  N_ROOM  SALE_COND  \\\n",
       "0        0      1004            131        1.0         1.0       3          1   \n",
       "1        6      1986             26        2.0         1.0       5          1   \n",
       "2        4       909             70        1.0         1.0       3          1   \n",
       "3        2      1855             14        3.0         2.0       5          2   \n",
       "4        0      1226             84        1.0         1.0       3          1   \n",
       "...    ...       ...            ...        ...         ...     ...        ...   \n",
       "7104     0       598             51        1.0         1.0       2          4   \n",
       "7105     2      1897             52        3.0         2.0       5          2   \n",
       "7106     2      1614            152        2.0         1.0       4          5   \n",
       "7107     0       787             40        1.0         1.0       2          3   \n",
       "7108     2      1896            156        3.0         2.0       5          3   \n",
       "\n",
       "      PARK_FACIL  BUILDTYPE  UTILITY_AVAIL  STREET  MZZONE  QS_ROOMS  \\\n",
       "0              1          2              1       1       0       4.0   \n",
       "1              0          2              1       2       4       4.9   \n",
       "2              1          2              2       2       3       4.1   \n",
       "3              0          1              3       1       1       4.7   \n",
       "4              1          1              1       2       2       3.0   \n",
       "...          ...        ...            ...     ...     ...       ...   \n",
       "7104           0          1              2       3       5       3.0   \n",
       "7105           1          1              3       3       4       3.6   \n",
       "7106           0          0              3       2       1       4.3   \n",
       "7107           1          2              2       1       3       4.6   \n",
       "7108           1          1              2       1       1       3.1   \n",
       "\n",
       "      QS_BATHROOM  QS_BEDROOM  QS_OVERALL  SALES_PRICE  sold_after_days  \\\n",
       "0             3.9         4.9       4.330      7600000            16031   \n",
       "1             4.2         2.5       3.765     21717770             4015   \n",
       "2             3.8         2.2       3.090     13159200             7152   \n",
       "3             3.9         3.6       4.010      9630290             8030   \n",
       "4             2.5         4.1       3.290      7406250            10802   \n",
       "...           ...         ...         ...          ...              ...   \n",
       "7104          2.2         2.4       2.520      5353000            17942   \n",
       "7105          4.5         3.3       3.920     10818480             3196   \n",
       "7106          4.2         2.9       3.840      8351410            10455   \n",
       "7107          3.8         4.1       4.160      8507000            11443   \n",
       "7108          3.5         4.3       3.640      9976480            16060   \n",
       "\n",
       "      COMMISSION  registration  \n",
       "0       1.900000      5.000000  \n",
       "1       1.400001      3.500000  \n",
       "2       0.699997      3.199997  \n",
       "3       0.799997      3.700003  \n",
       "4       1.000007      3.200000  \n",
       "...          ...           ...  \n",
       "7104    2.000000      3.900000  \n",
       "7105    1.899999      3.199997  \n",
       "7106    1.999998      3.800005  \n",
       "7107    1.400000      5.000000  \n",
       "7108    0.800002      3.500002  \n",
       "\n",
       "[7109 rows x 20 columns]"
      ]
     },
     "execution_count": 47,
     "metadata": {},
     "output_type": "execute_result"
    }
   ],
   "source": [
    "df"
   ]
  },
  {
   "cell_type": "markdown",
   "id": "886e599f",
   "metadata": {},
   "source": [
    "spliting dataset "
   ]
  },
  {
   "cell_type": "code",
   "execution_count": 48,
   "id": "08614a29",
   "metadata": {},
   "outputs": [],
   "source": [
    "x=df.drop('SALES_PRICE',axis=1)\n",
    "y=df['SALES_PRICE']\n",
    "\n",
    "x_train,x_test,y_train,y_test=train_test_split(x,y,test_size=0.3)"
   ]
  },
  {
   "cell_type": "code",
   "execution_count": 49,
   "id": "d49e0a23",
   "metadata": {},
   "outputs": [
    {
     "data": {
      "text/html": [
       "<div>\n",
       "<style scoped>\n",
       "    .dataframe tbody tr th:only-of-type {\n",
       "        vertical-align: middle;\n",
       "    }\n",
       "\n",
       "    .dataframe tbody tr th {\n",
       "        vertical-align: top;\n",
       "    }\n",
       "\n",
       "    .dataframe thead th {\n",
       "        text-align: right;\n",
       "    }\n",
       "</style>\n",
       "<table border=\"1\" class=\"dataframe\">\n",
       "  <thead>\n",
       "    <tr style=\"text-align: right;\">\n",
       "      <th></th>\n",
       "      <th>AREA</th>\n",
       "      <th>INT_SQFT</th>\n",
       "      <th>DIST_MAINROAD</th>\n",
       "      <th>N_BEDROOM</th>\n",
       "      <th>N_BATHROOM</th>\n",
       "      <th>N_ROOM</th>\n",
       "      <th>SALE_COND</th>\n",
       "      <th>PARK_FACIL</th>\n",
       "      <th>BUILDTYPE</th>\n",
       "      <th>UTILITY_AVAIL</th>\n",
       "      <th>STREET</th>\n",
       "      <th>MZZONE</th>\n",
       "      <th>QS_ROOMS</th>\n",
       "      <th>QS_BATHROOM</th>\n",
       "      <th>QS_BEDROOM</th>\n",
       "      <th>QS_OVERALL</th>\n",
       "      <th>sold_after_days</th>\n",
       "      <th>COMMISSION</th>\n",
       "      <th>registration</th>\n",
       "    </tr>\n",
       "  </thead>\n",
       "  <tbody>\n",
       "    <tr>\n",
       "      <th>0</th>\n",
       "      <td>0</td>\n",
       "      <td>1004</td>\n",
       "      <td>131</td>\n",
       "      <td>1.0</td>\n",
       "      <td>1.0</td>\n",
       "      <td>3</td>\n",
       "      <td>1</td>\n",
       "      <td>1</td>\n",
       "      <td>2</td>\n",
       "      <td>1</td>\n",
       "      <td>1</td>\n",
       "      <td>0</td>\n",
       "      <td>4.0</td>\n",
       "      <td>3.9</td>\n",
       "      <td>4.9</td>\n",
       "      <td>4.330</td>\n",
       "      <td>16031</td>\n",
       "      <td>1.900000</td>\n",
       "      <td>5.000000</td>\n",
       "    </tr>\n",
       "    <tr>\n",
       "      <th>1</th>\n",
       "      <td>6</td>\n",
       "      <td>1986</td>\n",
       "      <td>26</td>\n",
       "      <td>2.0</td>\n",
       "      <td>1.0</td>\n",
       "      <td>5</td>\n",
       "      <td>1</td>\n",
       "      <td>0</td>\n",
       "      <td>2</td>\n",
       "      <td>1</td>\n",
       "      <td>2</td>\n",
       "      <td>4</td>\n",
       "      <td>4.9</td>\n",
       "      <td>4.2</td>\n",
       "      <td>2.5</td>\n",
       "      <td>3.765</td>\n",
       "      <td>4015</td>\n",
       "      <td>1.400001</td>\n",
       "      <td>3.500000</td>\n",
       "    </tr>\n",
       "    <tr>\n",
       "      <th>2</th>\n",
       "      <td>4</td>\n",
       "      <td>909</td>\n",
       "      <td>70</td>\n",
       "      <td>1.0</td>\n",
       "      <td>1.0</td>\n",
       "      <td>3</td>\n",
       "      <td>1</td>\n",
       "      <td>1</td>\n",
       "      <td>2</td>\n",
       "      <td>2</td>\n",
       "      <td>2</td>\n",
       "      <td>3</td>\n",
       "      <td>4.1</td>\n",
       "      <td>3.8</td>\n",
       "      <td>2.2</td>\n",
       "      <td>3.090</td>\n",
       "      <td>7152</td>\n",
       "      <td>0.699997</td>\n",
       "      <td>3.199997</td>\n",
       "    </tr>\n",
       "    <tr>\n",
       "      <th>3</th>\n",
       "      <td>2</td>\n",
       "      <td>1855</td>\n",
       "      <td>14</td>\n",
       "      <td>3.0</td>\n",
       "      <td>2.0</td>\n",
       "      <td>5</td>\n",
       "      <td>2</td>\n",
       "      <td>0</td>\n",
       "      <td>1</td>\n",
       "      <td>3</td>\n",
       "      <td>1</td>\n",
       "      <td>1</td>\n",
       "      <td>4.7</td>\n",
       "      <td>3.9</td>\n",
       "      <td>3.6</td>\n",
       "      <td>4.010</td>\n",
       "      <td>8030</td>\n",
       "      <td>0.799997</td>\n",
       "      <td>3.700003</td>\n",
       "    </tr>\n",
       "    <tr>\n",
       "      <th>4</th>\n",
       "      <td>0</td>\n",
       "      <td>1226</td>\n",
       "      <td>84</td>\n",
       "      <td>1.0</td>\n",
       "      <td>1.0</td>\n",
       "      <td>3</td>\n",
       "      <td>1</td>\n",
       "      <td>1</td>\n",
       "      <td>1</td>\n",
       "      <td>1</td>\n",
       "      <td>2</td>\n",
       "      <td>2</td>\n",
       "      <td>3.0</td>\n",
       "      <td>2.5</td>\n",
       "      <td>4.1</td>\n",
       "      <td>3.290</td>\n",
       "      <td>10802</td>\n",
       "      <td>1.000007</td>\n",
       "      <td>3.200000</td>\n",
       "    </tr>\n",
       "    <tr>\n",
       "      <th>...</th>\n",
       "      <td>...</td>\n",
       "      <td>...</td>\n",
       "      <td>...</td>\n",
       "      <td>...</td>\n",
       "      <td>...</td>\n",
       "      <td>...</td>\n",
       "      <td>...</td>\n",
       "      <td>...</td>\n",
       "      <td>...</td>\n",
       "      <td>...</td>\n",
       "      <td>...</td>\n",
       "      <td>...</td>\n",
       "      <td>...</td>\n",
       "      <td>...</td>\n",
       "      <td>...</td>\n",
       "      <td>...</td>\n",
       "      <td>...</td>\n",
       "      <td>...</td>\n",
       "      <td>...</td>\n",
       "    </tr>\n",
       "    <tr>\n",
       "      <th>7104</th>\n",
       "      <td>0</td>\n",
       "      <td>598</td>\n",
       "      <td>51</td>\n",
       "      <td>1.0</td>\n",
       "      <td>1.0</td>\n",
       "      <td>2</td>\n",
       "      <td>4</td>\n",
       "      <td>0</td>\n",
       "      <td>1</td>\n",
       "      <td>2</td>\n",
       "      <td>3</td>\n",
       "      <td>5</td>\n",
       "      <td>3.0</td>\n",
       "      <td>2.2</td>\n",
       "      <td>2.4</td>\n",
       "      <td>2.520</td>\n",
       "      <td>17942</td>\n",
       "      <td>2.000000</td>\n",
       "      <td>3.900000</td>\n",
       "    </tr>\n",
       "    <tr>\n",
       "      <th>7105</th>\n",
       "      <td>2</td>\n",
       "      <td>1897</td>\n",
       "      <td>52</td>\n",
       "      <td>3.0</td>\n",
       "      <td>2.0</td>\n",
       "      <td>5</td>\n",
       "      <td>2</td>\n",
       "      <td>1</td>\n",
       "      <td>1</td>\n",
       "      <td>3</td>\n",
       "      <td>3</td>\n",
       "      <td>4</td>\n",
       "      <td>3.6</td>\n",
       "      <td>4.5</td>\n",
       "      <td>3.3</td>\n",
       "      <td>3.920</td>\n",
       "      <td>3196</td>\n",
       "      <td>1.899999</td>\n",
       "      <td>3.199997</td>\n",
       "    </tr>\n",
       "    <tr>\n",
       "      <th>7106</th>\n",
       "      <td>2</td>\n",
       "      <td>1614</td>\n",
       "      <td>152</td>\n",
       "      <td>2.0</td>\n",
       "      <td>1.0</td>\n",
       "      <td>4</td>\n",
       "      <td>5</td>\n",
       "      <td>0</td>\n",
       "      <td>0</td>\n",
       "      <td>3</td>\n",
       "      <td>2</td>\n",
       "      <td>1</td>\n",
       "      <td>4.3</td>\n",
       "      <td>4.2</td>\n",
       "      <td>2.9</td>\n",
       "      <td>3.840</td>\n",
       "      <td>10455</td>\n",
       "      <td>1.999998</td>\n",
       "      <td>3.800005</td>\n",
       "    </tr>\n",
       "    <tr>\n",
       "      <th>7107</th>\n",
       "      <td>0</td>\n",
       "      <td>787</td>\n",
       "      <td>40</td>\n",
       "      <td>1.0</td>\n",
       "      <td>1.0</td>\n",
       "      <td>2</td>\n",
       "      <td>3</td>\n",
       "      <td>1</td>\n",
       "      <td>2</td>\n",
       "      <td>2</td>\n",
       "      <td>1</td>\n",
       "      <td>3</td>\n",
       "      <td>4.6</td>\n",
       "      <td>3.8</td>\n",
       "      <td>4.1</td>\n",
       "      <td>4.160</td>\n",
       "      <td>11443</td>\n",
       "      <td>1.400000</td>\n",
       "      <td>5.000000</td>\n",
       "    </tr>\n",
       "    <tr>\n",
       "      <th>7108</th>\n",
       "      <td>2</td>\n",
       "      <td>1896</td>\n",
       "      <td>156</td>\n",
       "      <td>3.0</td>\n",
       "      <td>2.0</td>\n",
       "      <td>5</td>\n",
       "      <td>3</td>\n",
       "      <td>1</td>\n",
       "      <td>1</td>\n",
       "      <td>2</td>\n",
       "      <td>1</td>\n",
       "      <td>1</td>\n",
       "      <td>3.1</td>\n",
       "      <td>3.5</td>\n",
       "      <td>4.3</td>\n",
       "      <td>3.640</td>\n",
       "      <td>16060</td>\n",
       "      <td>0.800002</td>\n",
       "      <td>3.500002</td>\n",
       "    </tr>\n",
       "  </tbody>\n",
       "</table>\n",
       "<p>7109 rows × 19 columns</p>\n",
       "</div>"
      ],
      "text/plain": [
       "      AREA  INT_SQFT  DIST_MAINROAD  N_BEDROOM  N_BATHROOM  N_ROOM  SALE_COND  \\\n",
       "0        0      1004            131        1.0         1.0       3          1   \n",
       "1        6      1986             26        2.0         1.0       5          1   \n",
       "2        4       909             70        1.0         1.0       3          1   \n",
       "3        2      1855             14        3.0         2.0       5          2   \n",
       "4        0      1226             84        1.0         1.0       3          1   \n",
       "...    ...       ...            ...        ...         ...     ...        ...   \n",
       "7104     0       598             51        1.0         1.0       2          4   \n",
       "7105     2      1897             52        3.0         2.0       5          2   \n",
       "7106     2      1614            152        2.0         1.0       4          5   \n",
       "7107     0       787             40        1.0         1.0       2          3   \n",
       "7108     2      1896            156        3.0         2.0       5          3   \n",
       "\n",
       "      PARK_FACIL  BUILDTYPE  UTILITY_AVAIL  STREET  MZZONE  QS_ROOMS  \\\n",
       "0              1          2              1       1       0       4.0   \n",
       "1              0          2              1       2       4       4.9   \n",
       "2              1          2              2       2       3       4.1   \n",
       "3              0          1              3       1       1       4.7   \n",
       "4              1          1              1       2       2       3.0   \n",
       "...          ...        ...            ...     ...     ...       ...   \n",
       "7104           0          1              2       3       5       3.0   \n",
       "7105           1          1              3       3       4       3.6   \n",
       "7106           0          0              3       2       1       4.3   \n",
       "7107           1          2              2       1       3       4.6   \n",
       "7108           1          1              2       1       1       3.1   \n",
       "\n",
       "      QS_BATHROOM  QS_BEDROOM  QS_OVERALL  sold_after_days  COMMISSION  \\\n",
       "0             3.9         4.9       4.330            16031    1.900000   \n",
       "1             4.2         2.5       3.765             4015    1.400001   \n",
       "2             3.8         2.2       3.090             7152    0.699997   \n",
       "3             3.9         3.6       4.010             8030    0.799997   \n",
       "4             2.5         4.1       3.290            10802    1.000007   \n",
       "...           ...         ...         ...              ...         ...   \n",
       "7104          2.2         2.4       2.520            17942    2.000000   \n",
       "7105          4.5         3.3       3.920             3196    1.899999   \n",
       "7106          4.2         2.9       3.840            10455    1.999998   \n",
       "7107          3.8         4.1       4.160            11443    1.400000   \n",
       "7108          3.5         4.3       3.640            16060    0.800002   \n",
       "\n",
       "      registration  \n",
       "0         5.000000  \n",
       "1         3.500000  \n",
       "2         3.199997  \n",
       "3         3.700003  \n",
       "4         3.200000  \n",
       "...            ...  \n",
       "7104      3.900000  \n",
       "7105      3.199997  \n",
       "7106      3.800005  \n",
       "7107      5.000000  \n",
       "7108      3.500002  \n",
       "\n",
       "[7109 rows x 19 columns]"
      ]
     },
     "execution_count": 49,
     "metadata": {},
     "output_type": "execute_result"
    }
   ],
   "source": [
    "x"
   ]
  },
  {
   "cell_type": "markdown",
   "id": "fa406caf",
   "metadata": {},
   "source": [
    "fitting linear regression model"
   ]
  },
  {
   "cell_type": "code",
   "execution_count": 50,
   "id": "9258fcad",
   "metadata": {},
   "outputs": [
    {
     "data": {
      "text/plain": [
       "LinearRegression()"
      ]
     },
     "execution_count": 50,
     "metadata": {},
     "output_type": "execute_result"
    }
   ],
   "source": [
    "le=LinearRegression()\n",
    "le.fit(x_train,y_train)"
   ]
  },
  {
   "cell_type": "code",
   "execution_count": 51,
   "id": "fa378415",
   "metadata": {},
   "outputs": [
    {
     "data": {
      "image/png": "[encoded data removed]",
      "text/plain": [
       "<Figure size 432x288 with 1 Axes>"
      ]
     },
     "metadata": {
      "needs_background": "light"
     },
     "output_type": "display_data"
    }
   ],
   "source": [
    "y_predict=le.predict(x_test)\n",
    "\n",
    "plt.scatter(y_test,y_predict)\n",
    "plt.xlabel('actual')\n",
    "plt.ylabel('prediction')\n",
    "plt.show()"
   ]
  },
  {
   "cell_type": "code",
   "execution_count": 52,
   "id": "ab5da7b6",
   "metadata": {},
   "outputs": [
    {
     "name": "stdout",
     "output_type": "stream",
     "text": [
      "r2_score is 86.26479589866649 %\n"
     ]
    }
   ],
   "source": [
    "from sklearn.metrics import r2_score\n",
    "\n",
    "metric_score=r2_score(y_test,y_predict,multioutput='uniform_average')\n",
    "print('r2_score is',metric_score*100,'%')"
   ]
  },
  {
   "cell_type": "markdown",
   "id": "4b4d8740",
   "metadata": {},
   "source": [
    "# feature selection \n",
    "  \n",
    "   Aim to maximize relevance and minimize redundancy."
   ]
  },
  {
   "cell_type": "code",
   "execution_count": 53,
   "id": "80935f3c",
   "metadata": {},
   "outputs": [
    {
     "data": {
      "text/plain": [
       "array([0.93940184, 0.45153833, 0.28575705, 1.72873138, 2.30468516,\n",
       "       1.23755658, 0.43967189, 0.37202871, 0.59355265, 1.13168257,\n",
       "       0.48080242, 0.70612427, 0.14569168, 0.        , 0.19997926,\n",
       "       0.        , 0.        , 0.13255147, 0.2548261 ])"
      ]
     },
     "execution_count": 53,
     "metadata": {},
     "output_type": "execute_result"
    }
   ],
   "source": [
    "from sklearn.feature_selection import mutual_info_classif\n",
    "\n",
    "mutual_info=mutual_info_classif(x_train,y_train)\n",
    "mutual_info"
   ]
  },
  {
   "cell_type": "code",
   "execution_count": 54,
   "id": "307ea13a",
   "metadata": {},
   "outputs": [
    {
     "data": {
      "text/plain": [
       "N_BATHROOM         2.304685\n",
       "N_BEDROOM          1.728731\n",
       "N_ROOM             1.237557\n",
       "UTILITY_AVAIL      1.131683\n",
       "AREA               0.939402\n",
       "MZZONE             0.706124\n",
       "BUILDTYPE          0.593553\n",
       "STREET             0.480802\n",
       "INT_SQFT           0.451538\n",
       "SALE_COND          0.439672\n",
       "PARK_FACIL         0.372029\n",
       "DIST_MAINROAD      0.285757\n",
       "registration       0.254826\n",
       "QS_BEDROOM         0.199979\n",
       "QS_ROOMS           0.145692\n",
       "COMMISSION         0.132551\n",
       "QS_BATHROOM        0.000000\n",
       "QS_OVERALL         0.000000\n",
       "sold_after_days    0.000000\n",
       "dtype: float64"
      ]
     },
     "execution_count": 54,
     "metadata": {},
     "output_type": "execute_result"
    }
   ],
   "source": [
    "mutual_info=pd.Series(mutual_info)\n",
    "mutual_info.index=x_train.columns\n",
    "mutual_info.sort_values(ascending=False)"
   ]
  },
  {
   "cell_type": "code",
   "execution_count": 55,
   "id": "5f2076ab",
   "metadata": {},
   "outputs": [
    {
     "data": {
      "text/plain": [
       "<AxesSubplot:>"
      ]
     },
     "execution_count": 55,
     "metadata": {},
     "output_type": "execute_result"
    },
    {
     "data": {
      "image/png": "[encoded data removed]",
      "text/plain": [
       "<Figure size 1440x576 with 1 Axes>"
      ]
     },
     "metadata": {
      "needs_background": "light"
     },
     "output_type": "display_data"
    }
   ],
   "source": [
    "mutual_info.sort_values(ascending=False).plot.bar(figsize=(20,8))"
   ]
  },
  {
   "cell_type": "markdown",
   "id": "7dc24e1c",
   "metadata": {},
   "source": [
    "now we will find out best combination of features to predict the accurate price "
   ]
  },
  {
   "cell_type": "code",
   "execution_count": 56,
   "id": "a340d754",
   "metadata": {},
   "outputs": [
    {
     "name": "stdout",
     "output_type": "stream",
     "text": [
      "best 1  features are ['INT_SQFT']\n",
      "r2 score : 0.35343171117313443\n",
      "best 2  features are ['INT_SQFT' 'BUILDTYPE']\n",
      "r2 score : 0.6371688429365205\n",
      "best 3  features are ['AREA' 'INT_SQFT' 'BUILDTYPE']\n",
      "r2 score : 0.7464957840463451\n",
      "best 4  features are ['AREA' 'INT_SQFT' 'BUILDTYPE' 'MZZONE']\n",
      "r2 score : 0.8259071187670772\n",
      "best 5  features are ['AREA' 'INT_SQFT' 'PARK_FACIL' 'BUILDTYPE' 'MZZONE']\n",
      "r2 score : 0.8283781355982227\n",
      "best 6  features are ['AREA' 'INT_SQFT' 'PARK_FACIL' 'BUILDTYPE' 'MZZONE' 'registration']\n",
      "r2 score : 0.8378265179974652\n",
      "best 7  features are ['AREA' 'INT_SQFT' 'PARK_FACIL' 'BUILDTYPE' 'MZZONE' 'sold_after_days'\n",
      " 'registration']\n",
      "r2 score : 0.8543435916592661\n",
      "best 8  features are ['AREA' 'INT_SQFT' 'N_BEDROOM' 'PARK_FACIL' 'BUILDTYPE' 'MZZONE'\n",
      " 'sold_after_days' 'registration']\n",
      "r2 score : 0.8575785445878353\n",
      "best 9  features are ['AREA' 'INT_SQFT' 'N_BEDROOM' 'N_ROOM' 'PARK_FACIL' 'BUILDTYPE' 'MZZONE'\n",
      " 'sold_after_days' 'registration']\n",
      "r2 score : 0.8580640420839464\n",
      "best 10  features are ['AREA' 'INT_SQFT' 'N_BEDROOM' 'N_ROOM' 'PARK_FACIL' 'BUILDTYPE' 'STREET'\n",
      " 'MZZONE' 'sold_after_days' 'registration']\n",
      "r2 score : 0.8636175157002433\n"
     ]
    }
   ],
   "source": [
    "from sklearn.feature_selection import SequentialFeatureSelector as sfs\n",
    "for i in range (1,11):\n",
    "  f_selection=sfs(le,n_features_to_select=i)\n",
    "  f_selection.fit(x,y)\n",
    "  feature_selected=f_selection.get_feature_names_out()\n",
    "  print(f'best {i}  features are {feature_selected}')\n",
    "  xf=df.loc[ :,feature_selected]\n",
    "  yf=df.loc[ :,'SALES_PRICE']\n",
    "  xf_train,xf_test,yf_train,yf_test=train_test_split(xf,yf,test_size=0.3)\n",
    "  le.fit(xf_train,yf_train)\n",
    "  yf_predict=le.predict(xf_test)\n",
    "  print('r2 score :',r2_score(yf_test, yf_predict, multioutput='variance_weighted'))\n"
   ]
  },
  {
   "cell_type": "markdown",
   "id": "bbf9e150",
   "metadata": {},
   "source": [
    "best 10  features are ['AREA' 'INT_SQFT' 'N_BEDROOM' 'N_ROOM' 'PARK_FACIL' 'BUILDTYPE' 'STREET'\n",
    " 'MZZONE' 'sold_after_days' 'registration']\n",
    "\n",
    "so we will use only those 10 feature for our final model"
   ]
  },
  {
   "cell_type": "code",
   "execution_count": 57,
   "id": "7c708124",
   "metadata": {},
   "outputs": [],
   "source": [
    "x_feature=df[['AREA','INT_SQFT','N_BEDROOM','N_ROOM','PARK_FACIL','BUILDTYPE','STREET','MZZONE','sold_after_days','registration']]\n",
    "\n",
    "y_target=df['SALES_PRICE']"
   ]
  },
  {
   "cell_type": "code",
   "execution_count": 58,
   "id": "4ef99703",
   "metadata": {},
   "outputs": [],
   "source": [
    "##splitting data into train and test\n",
    "\n",
    "x1_train,x1_test,y1_train,y1_test=train_test_split(x_feature,y_target,test_size=0.3)"
   ]
  },
  {
   "cell_type": "code",
   "execution_count": 59,
   "id": "8234ee76",
   "metadata": {},
   "outputs": [
    {
     "data": {
      "text/plain": [
       "RandomForestRegressor()"
      ]
     },
     "execution_count": 59,
     "metadata": {},
     "output_type": "execute_result"
    }
   ],
   "source": [
    "##fitting model \n",
    "\n",
    "from sklearn.ensemble import RandomForestRegressor\n",
    "from sklearn.metrics import mean_absolute_error, mean_squared_error\n",
    "\n",
    "model=RandomForestRegressor()\n",
    "\n",
    "model.fit(x1_train,y1_train)"
   ]
  },
  {
   "cell_type": "code",
   "execution_count": 60,
   "id": "1f6d6563",
   "metadata": {},
   "outputs": [
    {
     "data": {
      "text/plain": [
       "array([10390313.05,  9062322.3 , 10948367.6 , ..., 12715403.4 ,\n",
       "       11599165.  , 19683994.4 ])"
      ]
     },
     "execution_count": 60,
     "metadata": {},
     "output_type": "execute_result"
    }
   ],
   "source": [
    "## predicting the model \n",
    "\n",
    "y1_predict=model.predict(x1_test)\n",
    "y1_predict"
   ]
  },
  {
   "cell_type": "code",
   "execution_count": 61,
   "id": "f2c8b341",
   "metadata": {},
   "outputs": [
    {
     "data": {
      "image/png": "[encoded data removed]",
      "text/plain": [
       "<Figure size 432x288 with 1 Axes>"
      ]
     },
     "metadata": {
      "needs_background": "light"
     },
     "output_type": "display_data"
    }
   ],
   "source": [
    "plt.scatter(y1_test,y1_predict)\n",
    "plt.xlabel('actual')\n",
    "plt.ylabel('prediction')\n",
    "plt.show()"
   ]
  },
  {
   "cell_type": "code",
   "execution_count": 62,
   "id": "fdeb75df",
   "metadata": {},
   "outputs": [
    {
     "name": "stdout",
     "output_type": "stream",
     "text": [
      "[(10370103.605375241, 10410522.49462476), (9042112.855375241, 9082531.74462476), (10928158.15537524, 10968577.044624759), (21258184.55537524, 21298603.44462476), (10519160.75537524, 10559579.644624759), (13599221.55537524, 13639640.44462476), (11898272.15537524, 11938691.044624759), (7918898.05537524, 7959316.94462476), (10688745.55537524, 10729164.44462476), (7551557.655375239, 7591976.54462476), (21505256.655375242, 21545675.54462476), (7845933.80537524, 7886352.69462476), (9974626.955375241, 10015045.84462476), (12320323.65537524, 12360742.544624759), (8654179.80537524, 8694598.69462476), (8602488.855375241, 8642907.74462476), (9113308.855375241, 9153727.74462476), (7242554.655375239, 7282973.54462476), (13205809.15537524, 13246228.044624759), (5616050.55537524, 5656469.44462476), (10580944.355375241, 10621363.24462476), (8248761.95537524, 8289180.844624761), (18129000.75537524, 18169419.64462476), (20494146.75537524, 20534565.64462476), (22074670.95537524, 22115089.844624758), (9473818.40537524, 9514237.294624759), (9202623.205375241, 9243042.09462476), (10153929.05537524, 10194347.94462476), (10479465.855375241, 10519884.74462476), (13092744.15537524, 13133163.044624759), (7338265.55537524, 7378684.44462476), (10554952.15537524, 10595371.044624759), (9632911.355375241, 9673330.24462476), (6783806.10537524, 6824224.99462476), (7452895.55537524, 7493314.44462476), (12424657.955375241, 12465076.84462476), (12801655.25537524, 12842074.144624759), (8051272.405375239, 8091691.29462476), (8214350.85537524, 8254769.74462476), (15806480.65537524, 15846899.544624759), (11835108.15537524, 11875527.044624759), (11742141.30537524, 11782560.19462476), (9868595.65537524, 9909014.544624759), (6631311.655375239, 6671730.54462476), (8393251.855375241, 8433670.74462476), (8376281.45537524, 8416700.34462476), (9630316.05537524, 9670734.94462476), (7150242.80537524, 7190661.69462476), (20422306.85537524, 20462725.74462476), (13752974.855375241, 13793393.74462476), (10349003.355375241, 10389422.24462476), (7992829.85537524, 8033248.74462476), (20382394.35537524, 20422813.24462476), (7734528.05537524, 7774946.94462476), (17662988.95537524, 17703407.844624758), (13222875.25537524, 13263294.144624759), (13256363.05537524, 13296781.94462476), (22157177.655375242, 22197596.54462476), (14514867.25537524, 14555286.144624759), (10542218.15537524, 10582637.044624759), (8725557.855375241, 8765976.74462476), (11167774.75537524, 11208193.644624759), (13023447.855375241, 13063866.74462476), (9980133.05537524, 10020551.94462476), (8346305.85537524, 8386724.74462476), (8640426.00537524, 8680844.894624759), (13718714.15537524, 13759133.044624759), (9283129.25537524, 9323548.144624759), (6741783.05537524, 6782201.94462476), (13119237.455375241, 13159656.34462476), (5019460.55537524, 5059879.44462476), (13619004.355375241, 13659423.24462476), (6857660.05537524, 6898078.94462476), (6741638.05537524, 6782056.94462476), (19564624.75537524, 19605043.64462476), (9380869.455375241, 9421288.34462476), (10699517.80537524, 10739936.69462476), (9265242.25537524, 9305661.144624759), (17453461.75537524, 17493880.64462476), (7486302.655375239, 7526721.54462476), (13814067.75537524, 13854486.644624759), (12748399.15537524, 12788818.044624759), (13230667.855375241, 13271086.74462476), (13552736.40537524, 13593155.294624759), (8364768.655375239, 8405187.544624759), (10957313.75537524, 10997732.644624759), (11908189.855375241, 11948608.74462476), (8618079.30537524, 8658498.19462476), (13129952.05537524, 13170370.94462476), (7951010.155375239, 7991429.04462476), (13413499.455375241, 13453918.34462476), (13857103.05537524, 13897521.94462476), (9948712.40537524, 9989131.294624759), (8730167.75537524, 8770586.644624759), (7200959.30537524, 7241378.19462476), (8384450.355375241, 8424869.24462476), (8903353.05537524, 8943771.94462476), (13461422.50537524, 13501841.394624759), (5624819.30537524, 5665238.19462476), (9339447.55537524, 9379866.44462476), (17112834.75537524, 17153253.64462476), (10217274.25537524, 10257693.144624759), (9935003.05537524, 9975421.94462476), (14120707.15537524, 14161126.044624759), (21251755.655375242, 21292174.54462476), (14343778.705375241, 14384197.59462476), (5717815.55537524, 5758234.44462476), (8543871.75537524, 8584290.644624759), (8251972.75537524, 8292391.64462476), (12521308.55537524, 12561727.44462476), (12114145.955375241, 12154564.84462476), (15430743.55537524, 15471162.44462476), (9786036.25537524, 9826455.144624759), (10128606.90537524, 10169025.794624759), (7535530.55537524, 7575949.44462476), (7681560.30537524, 7721979.19462476), (7259114.50537524, 7299533.39462476), (10747721.855375241, 10788140.74462476), (5451958.05537524, 5492376.94462476), (9506308.65537524, 9546727.544624759), (3853758.05537524, 3894176.94462476), (9411941.65537524, 9452360.544624759), (7308653.85537524, 7349072.74462476), (10058825.205375241, 10099244.09462476), (4129463.05537524, 4169881.94462476), (9468497.30537524, 9508916.19462476), (14782417.05537524, 14822835.94462476), (13901450.355375241, 13941869.24462476), (6925304.20537524, 6965723.094624761), (9645456.90537524, 9685875.794624759), (12725964.55537524, 12766383.44462476), (13951837.15537524, 13992256.044624759), (8955870.55537524, 8996289.44462476), (10546444.55537524, 10586863.44462476), (7723778.05537524, 7764196.94462476), (20907452.35537524, 20947871.24462476), (10753862.15537524, 10794281.044624759), (19559742.85537524, 19600161.74462476), (13242655.455375241, 13283074.34462476), (8149942.95537524, 8190361.844624761), (13817393.25537524, 13857812.144624759), (8726661.80537524, 8767080.69462476), (4074678.05537524, 4115096.94462476), (14904432.15537524, 14944851.044624759), (10925812.55537524, 10966231.44462476), (15041160.65537524, 15081579.544624759), (8875082.25537524, 8915501.144624759), (9538133.05537524, 9578551.94462476), (15745681.15537524, 15786100.044624759), (9464969.30537524, 9505388.19462476), (10525279.80537524, 10565698.69462476), (5514920.75537524, 5555339.64462476), (10702494.15537524, 10742913.044624759), (14884285.855375241, 14924704.74462476), (14015349.30537524, 14055768.19462476), (14715621.105375241, 14756039.99462476), (20363760.45537524, 20404179.344624758), (22093245.95537524, 22133664.844624758), (11475886.55537524, 11516305.44462476), (9165354.80537524, 9205773.69462476), (13190800.355375241, 13231219.24462476), (8272855.45537524, 8313274.344624761), (11398944.455375241, 11439363.34462476), (10914024.05537524, 10954442.94462476), (8042133.35537524, 8082552.24462476), (16348974.25537524, 16389393.144624759), (18305629.75537524, 18346048.64462476), (11269770.55537524, 11310189.44462476), (14026858.05537524, 14067276.94462476), (17974610.75537524, 18015029.64462476), (5582693.05537524, 5623111.94462476), (8677825.355375241, 8718244.24462476), (13025085.05537524, 13065503.94462476), (12092421.50537524, 12132840.394624759), (10031236.705375241, 10071655.59462476), (10392368.80537524, 10432787.69462476), (5884604.30537524, 5925023.19462476), (11304339.15537524, 11344758.044624759), (8391642.455375241, 8432061.34462476), (9786859.05537524, 9827277.94462476), (13533371.05537524, 13573789.94462476), (9700977.355375241, 9741396.24462476), (10731834.355375241, 10772253.24462476), (8634171.105375241, 8674589.99462476), (11284073.65537524, 11324492.544624759), (9718088.15537524, 9758507.044624759), (11971059.25537524, 12011478.144624759), (12463571.05537524, 12503989.94462476), (8154500.55537524, 8194919.44462476), (10458935.05537524, 10499353.94462476), (10670804.55537524, 10711223.44462476), (8663964.705375241, 8704383.59462476), (8603976.955375241, 8644395.84462476), (10907443.05537524, 10947861.94462476), (8292529.35537524, 8332948.24462476), (19618177.05537524, 19658595.94462476), (11092579.15537524, 11132998.044624759), (10282677.30537524, 10323096.19462476), (8718448.355375241, 8758867.24462476), (15734678.25537524, 15775097.144624759), (5182044.30537524, 5222463.19462476), (11233405.605375241, 11273824.49462476), (8339821.60537524, 8380240.49462476), (9031890.205375241, 9072309.09462476), (15328081.25537524, 15368500.144624759), (10560877.455375241, 10601296.34462476), (12086002.75537524, 12126421.644624759), (10387053.65537524, 10427472.544624759), (11037580.855375241, 11077999.74462476), (13807022.40537524, 13847441.294624759), (10460348.455375241, 10500767.34462476), (12600491.955375241, 12640910.84462476), (9899848.855375241, 9940267.74462476), (21310068.95537524, 21350487.844624758), (5911166.80537524, 5951585.69462476), (8558919.205375241, 8599338.09462476), (13797416.65537524, 13837835.544624759), (8195307.905375239, 8235726.79462476), (20164504.155375242, 20204923.04462476), (10250963.955375241, 10291382.84462476), (11097766.65537524, 11138185.544624759), (10208948.05537524, 10249366.94462476), (11596488.455375241, 11636907.34462476), (12573658.55537524, 12614077.44462476), (12829758.955375241, 12870177.84462476), (12589081.80537524, 12629500.69462476), (5655911.80537524, 5696330.69462476), (10177503.40537524, 10217922.294624759), (12488144.355375241, 12528563.24462476), (10972383.80537524, 11012802.69462476), (14987158.75537524, 15027577.644624759), (10739071.05537524, 10779489.94462476), (9614297.355375241, 9654716.24462476), (9146606.90537524, 9187025.794624759), (12613825.15537524, 12654244.044624759), (8801270.105375241, 8841688.99462476), (6580109.30537524, 6620528.19462476), (9363525.855375241, 9403944.74462476), (9152268.05537524, 9192686.94462476), (13610558.855375241, 13650977.74462476), (17410051.45537524, 17450470.344624758), (12703093.65537524, 12743512.544624759), (14627162.455375241, 14667581.34462476), (15248737.25537524, 15289156.144624759), (12405877.75537524, 12446296.644624759), (8212049.50537524, 8252468.39462476), (13180591.955375241, 13221010.84462476), (10210467.355375241, 10250886.24462476), (3895941.80537524, 3936360.69462476), (10665309.65537524, 10705728.544624759), (5915786.80537524, 5956205.69462476), (12582523.75537524, 12622942.644624759), (10938535.55537524, 10978954.44462476), (6866841.60537524, 6907260.49462476), (6626183.05537524, 6666601.94462476), (9706071.75537524, 9746490.644624759), (15059523.55537524, 15099942.44462476), (7827491.00537524, 7867909.89462476), (13356695.25537524, 13397114.144624759), (12778297.15537524, 12818716.044624759), (10151232.355375241, 10191651.24462476), (22770792.25537524, 22811211.14462476), (8873761.855375241, 8914180.74462476), (7890431.50537524, 7930850.39462476), (13768355.205375241, 13808774.09462476), (13981316.75537524, 14021735.644624759), (7774740.60537524, 7815159.49462476), (6087166.80537524, 6127585.69462476), (7726374.30537524, 7766793.19462476), (6194508.05537524, 6234926.94462476), (11062374.355375241, 11102793.24462476), (12269355.25537524, 12309774.144624759), (10488757.205375241, 10529176.09462476), (21560221.35537524, 21600640.24462476), (19438958.155375242, 19479377.04462476), (22420852.85537524, 22461271.74462476), (8100090.45537524, 8140509.344624761), (11718172.55537524, 11758591.44462476), (14546124.55537524, 14586543.44462476), (5565323.05537524, 5605741.94462476), (20752787.655375242, 20793206.54462476), (12759351.55537524, 12799770.44462476), (7374870.55537524, 7415289.44462476), (12868108.605375241, 12908527.49462476), (11102906.75537524, 11143325.644624759), (14082929.355375241, 14123348.24462476), (7478236.35537524, 7518655.24462476), (8725148.05537524, 8765566.94462476), (15293603.25537524, 15334022.144624759), (14388901.455375241, 14429320.34462476), (12921974.50537524, 12962393.394624759), (6769885.55537524, 6810304.44462476), (15979976.55537524, 16020395.44462476), (8613653.80537524, 8654072.69462476), (5346484.30537524, 5386903.19462476), (6413993.05537524, 6454411.94462476), (16214900.75537524, 16255319.644624759), (6348851.80537524, 6389270.69462476), (17549841.155375242, 17590260.04462476), (11033135.705375241, 11073554.59462476), (17448882.155375242, 17489301.04462476), (12217697.05537524, 12258115.94462476), (9052750.55537524, 9093169.44462476), (8027433.05537524, 8067851.94462476), (5462471.80537524, 5502890.69462476), (7959094.05537524, 7999512.94462476), (13880106.15537524, 13920525.044624759), (13095891.05537524, 13136309.94462476), (8340993.05537524, 8381411.94462476), (9745910.25537524, 9786329.144624759), (7497911.80537524, 7538330.69462476), (12357397.15537524, 12397816.044624759), (6755423.05537524, 6795841.94462476), (12864861.25537524, 12905280.144624759), (16275379.855375241, 16315798.74462476), (9752275.65537524, 9792694.544624759), (11205657.15537524, 11246076.044624759), (9044450.90537524, 9084869.794624759), (7465090.95537524, 7505509.844624761), (5601568.05537524, 5641986.94462476), (8491237.15537524, 8531656.044624759), (6714479.35537524, 6754898.24462476), (9161311.855375241, 9201730.74462476), (11998236.75537524, 12038655.644624759), (13863343.55537524, 13903762.44462476), (8130493.155375239, 8170912.04462476), (7272630.55537524, 7313049.44462476), (11550967.25537524, 11591386.144624759), (19889714.75537524, 19930133.64462476), (13138378.80537524, 13178797.69462476), (9885588.80537524, 9926007.69462476), (9050340.05537524, 9090758.94462476), (9978108.00537524, 10018526.894624759), (9761778.605375241, 9802197.49462476), (7883496.00537524, 7923914.89462476), (10746131.65537524, 10786550.544624759), (14184054.05537524, 14224472.94462476), (7952575.905375239, 7992994.79462476), (9016594.65537524, 9057013.544624759), (8505738.605375241, 8546157.49462476), (10485116.55537524, 10525535.44462476), (11827689.55537524, 11868108.44462476), (12215809.65537524, 12256228.544624759), (8549563.75537524, 8589982.644624759), (3667623.05537524, 3708041.94462476), (9653172.55537524, 9693591.44462476), (14242256.455375241, 14282675.34462476), (6387058.05537524, 6427476.94462476), (12447584.955375241, 12488003.84462476), (6752740.55537524, 6793159.44462476), (10062626.855375241, 10103045.74462476), (9917229.455375241, 9957648.34462476), (8087277.85537524, 8127696.74462476), (14998411.15537524, 15038830.044624759), (15913576.455375241, 15953995.34462476), (9072924.30537524, 9113343.19462476), (6814684.655375239, 6855103.54462476), (15995168.25537524, 16035587.144624759), (12070208.55537524, 12110627.44462476), (12930476.15537524, 12970895.044624759), (4773154.30537524, 4813573.19462476), (8158106.405375239, 8198525.29462476), (9933066.75537524, 9973485.644624759), (7858233.10537524, 7898651.99462476), (7684274.30537524, 7724693.19462476), (6513634.25537524, 6554053.14462476), (12297460.355375241, 12337879.24462476), (10865982.65537524, 10906401.544624759), (4778781.80537524, 4819200.69462476), (13164935.80537524, 13205354.69462476), (7262117.00537524, 7302535.89462476), (17393277.155375242, 17433696.04462476), (10178623.205375241, 10219042.09462476), (8239446.80537524, 8279865.69462476), (8257646.85537524, 8298065.74462476), (20095284.95537524, 20135703.844624758), (14728756.75537524, 14769175.644624759), (7679134.30537524, 7719553.19462476), (7881545.20537524, 7921964.094624761), (14939162.855375241, 14979581.74462476), (6440850.55537524, 6481269.44462476), (4838995.55537524, 4879414.44462476), (7362875.35537524, 7403294.24462476), (12513334.55537524, 12553753.44462476), (10360829.65537524, 10401248.544624759), (16273356.05537524, 16313774.94462476), (16316480.855375241, 16356899.74462476), (11934603.15537524, 11975022.044624759), (7406237.05537524, 7446655.94462476), (4181676.80537524, 4222095.69462476), (4614294.30537524, 4654713.19462476), (20123239.95537524, 20163658.844624758), (8484488.855375241, 8524907.74462476), (20454027.95537524, 20494446.844624758), (7434077.35537524, 7474496.24462476), (9884340.80537524, 9924759.69462476), (15014011.25537524, 15054430.144624759), (20515725.45537524, 20556144.344624758), (12559286.855375241, 12599705.74462476), (20659674.45537524, 20700093.344624758), (7582877.405375239, 7623296.29462476), (10704828.05537524, 10745246.94462476), (12012816.80537524, 12053235.69462476), (18523482.155375242, 18563901.04462476), (12684735.75537524, 12725154.644624759), (7764544.655375239, 7804963.54462476), (14370509.55537524, 14410928.44462476), (13363915.15537524, 13404334.044624759), (10268507.355375241, 10308926.24462476), (9660789.955375241, 9701208.84462476), (9377112.105375241, 9417530.99462476), (20570542.25537524, 20610961.14462476), (5269175.10537524, 5309593.99462476), (16608429.25537524, 16648848.144624759), (12300045.955375241, 12340464.84462476), (7424878.05537524, 7465296.94462476), (8523912.90537524, 8564331.794624759), (10989854.455375241, 11030273.34462476), (11810799.75537524, 11851218.644624759), (9848307.105375241, 9888725.99462476), (13064013.15537524, 13104432.044624759), (7900728.05537524, 7941146.94462476), (8521517.105375241, 8561935.99462476), (9797252.205375241, 9837671.09462476), (12077044.65537524, 12117463.544624759), (8301636.80537524, 8342055.69462476), (14350357.955375241, 14390776.84462476), (9218751.50537524, 9259170.394624759), (13554074.55537524, 13594493.44462476), (10929258.05537524, 10969676.94462476), (13687112.65537524, 13727531.544624759), (4352273.05537524, 4392691.94462476), (12167829.15537524, 12208248.044624759), (8543472.855375241, 8583891.74462476), (8206291.75537524, 8246710.64462476), (10721349.705375241, 10761768.59462476), (7778227.85537524, 7818646.74462476), (12341484.355375241, 12381903.24462476), (9182997.105375241, 9223415.99462476), (9445732.55537524, 9486151.44462476), (10625064.455375241, 10665483.34462476), (8483008.605375241, 8523427.49462476), (11717804.05537524, 11758222.94462476), (7151699.30537524, 7192118.19462476), (10122079.55537524, 10162498.44462476), (12735404.355375241, 12775823.24462476), (9707857.80537524, 9748276.69462476), (9875434.55537524, 9915853.44462476), (15076577.05537524, 15116995.94462476), (17723142.25537524, 17763561.14462476), (10271940.15537524, 10312359.044624759), (4367053.05537524, 4407471.94462476), (12884474.455375241, 12924893.34462476), (10734684.15537524, 10775103.044624759), (13401352.55537524, 13441771.44462476), (12506446.855375241, 12546865.74462476), (10582455.355375241, 10622874.24462476), (9774077.30537524, 9814496.19462476), (10747689.455375241, 10788108.34462476), (12987122.955375241, 13027541.84462476), (9350936.455375241, 9391355.34462476), (10132446.855375241, 10172865.74462476), (7397730.55537524, 7438149.44462476), (6035729.30537524, 6076148.19462476), (9732439.355375241, 9772858.24462476), (6204042.405375239, 6244461.29462476), (7997897.85537524, 8038316.74462476), (12683467.355375241, 12723886.24462476), (10599627.25537524, 10640046.144624759), (9237647.205375241, 9278066.09462476), (11361416.355375241, 11401835.24462476), (15574704.705375241, 15615123.59462476), (8638078.855375241, 8678497.74462476), (6623976.10537524, 6664394.99462476), (14023876.455375241, 14064295.34462476), (8821706.40537524, 8862125.294624759), (13691998.455375241, 13732417.34462476), (11735433.955375241, 11775852.84462476), (18703265.655375242, 18743684.54462476), (13390095.05537524, 13430513.94462476), (11853326.355375241, 11893745.24462476), (12197581.355375241, 12238000.24462476), (9398321.05537524, 9438739.94462476), (9135053.75537524, 9175472.644624759), (11832562.455375241, 11872981.34462476), (11807991.105375241, 11848409.99462476), (8393178.80537524, 8433597.69462476), (7394598.75537524, 7435017.64462476), (13006991.25537524, 13047410.144624759), (8315397.05537524, 8355815.94462476), (8113396.05537524, 8153814.94462476), (8240159.45537524, 8280578.344624761), (11320723.55537524, 11361142.44462476), (20385470.25537524, 20425889.14462476), (20411436.655375242, 20451855.54462476), (12207889.75537524, 12248308.644624759), (13031897.455375241, 13072316.34462476), (13539537.15537524, 13579956.044624759), (11339773.05537524, 11380191.94462476), (8183377.75537524, 8223796.64462476), (7060465.55537524, 7100884.44462476), (9098012.40537524, 9138431.294624759), (13965281.705375241, 14005700.59462476), (12179058.25537524, 12219477.144624759), (8617367.15537524, 8657786.044624759), (14944116.05537524, 14984534.94462476), (10537710.00537524, 10578128.894624759), (8324106.35537524, 8364525.24462476), (13075019.455375241, 13115438.34462476), (21536855.75537524, 21577274.64462476), (7343195.10537524, 7383613.99462476), (8463995.355375241, 8504414.24462476), (9729446.605375241, 9769865.49462476), (18441749.75537524, 18482168.64462476), (15523444.05537524, 15563862.94462476), (11987455.955375241, 12027874.84462476), (16807742.155375242, 16848161.04462476), (8144640.405375239, 8185059.29462476), (12462445.55537524, 12502864.44462476), (10676486.80537524, 10716905.69462476), (19339927.155375242, 19380346.04462476), (8552893.30537524, 8593312.19462476), (12764079.25537524, 12804498.144624759), (12847757.355375241, 12888176.24462476), (11052285.15537524, 11092704.044624759), (4162471.80537524, 4202890.69462476), (21708726.55537524, 21749145.44462476), (9462226.80537524, 9502645.69462476), (9023709.55537524, 9064128.44462476), (12634236.855375241, 12674655.74462476), (6529282.70537524, 6569701.594624761), (11858295.955375241, 11898714.84462476), (20619375.85537524, 20659794.74462476), (14093376.455375241, 14133795.34462476), (14255536.955375241, 14295955.84462476), (7567716.30537524, 7608135.19462476), (10061804.855375241, 10102223.74462476), (14271970.455375241, 14312389.34462476), (14121220.65537524, 14161639.544624759), (14023353.15537524, 14063772.044624759), (9185757.50537524, 9226176.394624759), (13086873.30537524, 13127292.19462476), (3785083.05537524, 3825501.94462476), (7450955.55537524, 7491374.44462476), (8405988.955375241, 8446407.84462476), (12819830.55537524, 12860249.44462476), (14536935.355375241, 14577354.24462476), (4794385.55537524, 4834804.44462476), (12400723.55537524, 12441142.44462476), (7421603.95537524, 7462022.844624761), (12147041.80537524, 12187460.69462476), (14357001.855375241, 14397420.74462476), (13389173.355375241, 13429592.24462476), (6825950.55537524, 6866369.44462476), (5532911.80537524, 5573330.69462476), (9069786.05537524, 9110204.94462476), (12181809.955375241, 12222228.84462476), (10501448.15537524, 10541867.044624759), (10605432.90537524, 10645851.794624759), (5988898.05537524, 6029316.94462476), (9586122.15537524, 9626541.044624759), (10987611.75537524, 11028030.644624759), (9646952.65537524, 9687371.544624759), (18511371.75537524, 18551790.64462476), (8193559.30537524, 8233978.19462476), (21901016.05537524, 21941434.94462476), (11329497.05537524, 11369915.94462476), (9315279.55537524, 9355698.44462476), (14484099.75537524, 14524518.644624759), (12343287.55537524, 12383706.44462476), (9362909.05537524, 9403327.94462476), (10044916.15537524, 10085335.044624759), (9148535.65537524, 9188954.544624759), (15198589.955375241, 15239008.84462476), (9974508.05537524, 10014926.94462476), (12905235.75537524, 12945654.644624759), (7286274.30537524, 7326693.19462476), (8128386.55537524, 8168805.44462476), (17313811.45537524, 17354230.344624758), (14462027.855375241, 14502446.74462476), (8805556.705375241, 8845975.59462476), (16817497.655375242, 16857916.54462476), (15325736.455375241, 15366155.34462476), (9727194.65537524, 9767613.544624759), (11708214.05537524, 11748632.94462476), (12115869.15537524, 12156288.044624759), (6599613.05537524, 6640031.94462476), (8753232.90537524, 8793651.794624759), (7387604.30537524, 7428023.19462476), (8811940.355375241, 8852359.24462476), (13074113.75537524, 13114532.644624759), (6359183.05537524, 6399601.94462476), (6594180.55537524, 6634599.44462476), (13876316.30537524, 13916735.19462476), (19510220.95537524, 19550639.844624758), (8726149.105375241, 8766567.99462476), (11894260.75537524, 11934679.644624759), (7438424.655375239, 7478843.54462476), (10311715.30537524, 10352134.19462476), (18412777.25537524, 18453196.14462476), (13129890.15537524, 13170309.044624759), (7243646.35537524, 7284065.24462476), (9529748.80537524, 9570167.69462476), (20600106.25537524, 20640525.14462476), (6049878.05537524, 6090296.94462476), (8361111.00537524, 8401529.89462476), (6655525.60537524, 6695944.49462476), (12933065.50537524, 12973484.394624759), (8530964.355375241, 8571383.24462476), (5868978.05537524, 5909396.94462476), (8420537.00537524, 8460955.894624759), (9033923.605375241, 9074342.49462476), (19084298.25537524, 19124717.14462476), (10685193.955375241, 10725612.84462476), (9001670.705375241, 9042089.59462476), (12769372.355375241, 12809791.24462476), (9079962.40537524, 9120381.294624759), (8603171.855375241, 8643590.74462476), (8993539.40537524, 9033958.294624759), (8845801.55537524, 8886220.44462476), (12235113.90537524, 12275532.794624759), (12110613.25537524, 12151032.144624759), (9685300.65537524, 9725719.544624759), (12513573.355375241, 12553992.24462476), (6737368.45537524, 6777787.344624761), (9109130.25537524, 9149549.144624759), (19643511.95537524, 19683930.844624758), (12828843.455375241, 12869262.34462476), (10976903.15537524, 11017322.044624759), (8499209.50537524, 8539628.394624759), (19739891.95537524, 19780310.844624758), (8363523.05537524, 8403941.94462476), (10781198.30537524, 10821617.19462476), (10488840.105375241, 10529258.99462476), (22920211.45537524, 22960630.344624758), (11255958.15537524, 11296377.044624759), (10481753.90537524, 10522172.794624759), (14999342.25537524, 15039761.144624759), (7202713.05537524, 7243131.94462476), (12757842.105375241, 12798260.99462476), (8013003.05537524, 8053421.94462476), (13101057.855375241, 13141476.74462476), (7750308.05537524, 7790726.94462476), (7537081.10537524, 7577499.99462476), (12982121.15537524, 13022540.044624759), (8556683.05537524, 8597101.94462476), (11178662.65537524, 11219081.544624759), (6573773.655375239, 6614192.54462476), (12397022.05537524, 12437440.94462476), (10623732.75537524, 10664151.644624759), (9261869.30537524, 9302288.19462476), (5351073.05537524, 5391491.94462476), (13366977.75537524, 13407396.644624759), (8858805.55537524, 8899224.44462476), (7265181.20537524, 7305600.094624761), (10909098.05537524, 10949516.94462476), (18774786.45537524, 18815205.344624758), (6160225.55537524, 6200644.44462476), (15492583.40537524, 15533002.294624759), (8448618.05537524, 8489036.94462476), (8417270.40537524, 8457689.294624759), (7515555.55537524, 7555974.44462476), (12092416.15537524, 12132835.044624759), (14242964.25537524, 14283383.144624759), (13195702.05537524, 13236120.94462476), (13222410.355375241, 13262829.24462476), (15910750.25537524, 15951169.144624759), (7388480.55537524, 7428899.44462476), (9138673.455375241, 9179092.34462476), (13070031.55537524, 13110450.44462476), (10417952.105375241, 10458370.99462476), (11500129.05537524, 11540547.94462476), (20045044.55537524, 20085463.44462476), (8708585.55537524, 8749004.44462476), (7395632.60537524, 7436051.49462476), (10032873.955375241, 10073292.84462476), (7155857.155375239, 7196276.04462476), (10563940.455375241, 10604359.34462476), (10390494.205375241, 10430913.09462476), (11853086.455375241, 11893505.34462476), (7339923.05537524, 7380341.94462476), (7876896.80537524, 7917315.69462476), (9089281.05537524, 9129699.94462476), (8894853.955375241, 8935272.84462476), (9483486.705375241, 9523905.59462476), (8290994.00537524, 8331412.89462476), (13916845.15537524, 13957264.044624759), (9559689.855375241, 9600108.74462476), (13781647.455375241, 13822066.34462476), (14434651.15537524, 14475070.044624759), (12292078.955375241, 12332497.84462476), (8777774.705375241, 8818193.59462476), (5689571.80537524, 5729990.69462476), (8812816.55537524, 8853235.44462476), (5015624.30537524, 5056043.19462476), (11997850.355375241, 12038269.24462476), (20254165.25537524, 20294584.14462476), (11462863.355375241, 11503282.24462476), (7048795.55537524, 7089214.44462476), (11283271.355375241, 11323690.24462476), (12859226.355375241, 12899645.24462476), (9266211.50537524, 9306630.394624759), (13644703.25537524, 13685122.144624759), (8118413.05537524, 8158831.94462476), (6410661.80537524, 6451080.69462476), (11921504.205375241, 11961923.09462476), (10593980.955375241, 10634399.84462476), (8244056.80537524, 8284475.69462476), (12170752.205375241, 12211171.09462476), (7302908.05537524, 7343326.94462476), (14688489.90537524, 14728908.794624759), (12790508.955375241, 12830927.84462476), (14397268.25537524, 14437687.144624759), (20412848.55537524, 20453267.44462476), (13739251.355375241, 13779670.24462476), (13354762.955375241, 13395181.84462476), (13976565.855375241, 14016984.74462476), (8622161.955375241, 8662580.84462476), (5294725.55537524, 5335144.44462476), (8589821.15537524, 8630240.044624759), (6135345.55537524, 6175764.44462476), (20371845.75537524, 20412264.64462476), (9057388.855375241, 9097807.74462476), (14358034.55537524, 14398453.44462476), (13565943.05537524, 13606361.94462476), (9938791.75537524, 9979210.644624759), (11937141.455375241, 11977560.34462476), (21915579.35537524, 21955998.24462476), (7485184.30537524, 7525603.19462476), (9453639.355375241, 9494058.24462476), (12272371.355375241, 12312790.24462476), (6854183.05537524, 6894601.94462476), (14091798.855375241, 14132217.74462476), (21885678.35537524, 21926097.24462476), (8853180.705375241, 8893599.59462476), (6388523.05537524, 6428941.94462476), (13245409.855375241, 13285828.74462476), (11714561.65537524, 11754980.544624759), (9992995.55537524, 10033414.44462476), (14461918.55537524, 14502337.44462476), (8535081.855375241, 8575500.74462476), (9631022.65537524, 9671441.544624759), (13983310.855375241, 14023729.74462476), (11173030.455375241, 11213449.34462476), (7232970.55537524, 7273389.44462476), (13470786.25537524, 13511205.144624759), (7243168.45537524, 7283587.344624761), (10718850.955375241, 10759269.84462476), (8976265.40537524, 9016684.294624759), (6418569.50537524, 6458988.39462476), (17071464.35537524, 17111883.24462476), (6930072.10537524, 6970490.99462476), (13897920.25537524, 13938339.144624759), (13121200.55537524, 13161619.44462476), (7792363.75537524, 7832782.64462476), (5582793.05537524, 5623211.94462476), (17770576.55537524, 17810995.44462476), (13108165.15537524, 13148584.044624759), (6150046.80537524, 6190465.69462476), (9337024.65537524, 9377443.544624759), (4787231.80537524, 4827650.69462476), (14524457.90537524, 14564876.794624759), (8357727.655375239, 8398146.544624759), (12618231.955375241, 12658650.84462476), (7619584.70537524, 7660003.594624761), (22459267.155375242, 22499686.04462476), (5341603.05537524, 5382021.94462476), (5067009.30537524, 5107428.19462476), (13044427.855375241, 13084846.74462476), (9647308.05537524, 9687726.94462476), (5894649.30537524, 5935068.19462476), (10334400.30537524, 10374819.19462476), (15037571.355375241, 15077990.24462476), (9316583.05537524, 9357001.94462476), (13874653.55537524, 13915072.44462476), (16621723.05537524, 16662141.94462476), (8939795.55537524, 8980214.44462476), (8297193.30537524, 8337612.19462476), (7099562.405375239, 7139981.29462476), (13008280.455375241, 13048699.34462476), (9628156.90537524, 9668575.794624759), (13347348.455375241, 13387767.34462476), (15134500.75537524, 15174919.644624759), (11070323.15537524, 11110742.044624759), (10472233.25537524, 10512652.144624759), (9727811.80537524, 9768230.69462476), (10477485.05537524, 10517903.94462476), (11413469.55537524, 11453888.44462476), (10495692.455375241, 10536111.34462476), (7259414.30537524, 7299833.19462476), (10249523.455375241, 10289942.34462476), (6266600.405375239, 6307019.29462476), (9310791.40537524, 9351210.294624759), (10696664.205375241, 10737083.09462476), (14099269.80537524, 14139688.69462476), (12502035.855375241, 12542454.74462476), (7434479.95537524, 7474898.844624761), (9590958.855375241, 9631377.74462476), (12880266.955375241, 12920685.84462476), (12273723.05537524, 12314141.94462476), (11352392.455375241, 11392811.34462476), (8873021.05537524, 8913439.94462476), (9598900.15537524, 9639319.044624759), (14838652.455375241, 14879071.34462476), (8875344.25537524, 8915763.144624759), (7066909.10537524, 7107327.99462476), (13172870.55537524, 13213289.44462476), (7901555.655375239, 7941974.54462476), (7771498.155375239, 7811917.04462476), (7275215.55537524, 7315634.44462476), (9009132.75537524, 9049551.644624759), (8753790.455375241, 8794209.34462476), (9998404.25537524, 10038823.144624759), (16452754.455375241, 16493173.34462476), (7074641.655375239, 7115060.54462476), (13423362.55537524, 13463781.44462476), (5332881.80537524, 5373300.69462476), (14677033.15537524, 14717452.044624759), (12330606.955375241, 12371025.84462476), (9744037.40537524, 9784456.294624759), (12989878.15537524, 13030297.044624759), (9355428.05537524, 9395846.94462476), (10251614.50537524, 10292033.394624759), (14588256.25537524, 14628675.144624759), (14169922.75537524, 14210341.644624759), (9531309.605375241, 9571728.49462476), (12668750.40537524, 12709169.294624759), (8322064.30537524, 8362483.19462476), (12387511.455375241, 12427930.34462476), (8546196.455375241, 8586615.34462476), (9578322.855375241, 9618741.74462476), (10188156.05537524, 10228574.94462476), (13627121.05537524, 13667539.94462476), (20167664.85537524, 20208083.74462476), (15736470.15537524, 15776889.044624759), (9813235.65537524, 9853654.544624759), (13824410.15537524, 13864829.044624759), (13518336.455375241, 13558755.34462476), (6195878.405375239, 6236297.29462476), (8956245.55537524, 8996664.44462476), (18203161.95537524, 18243580.844624758), (12156823.25537524, 12197242.144624759), (11784273.05537524, 11824691.94462476), (11110264.955375241, 11150683.84462476), (12667213.955375241, 12707632.84462476), (13276569.955375241, 13316988.84462476), (5365850.55537524, 5406269.44462476), (12918668.955375241, 12959087.84462476), (6698818.05537524, 6739236.94462476), (17115723.85537524, 17156142.74462476), (13804778.75537524, 13845197.644624759), (10530271.80537524, 10570690.69462476), (12121687.955375241, 12162106.84462476), (11209090.65537524, 11249509.544624759), (13573222.05537524, 13613640.94462476), (10248488.25537524, 10288907.144624759), (6859798.05537524, 6900216.94462476), (8348928.00537524, 8389346.89462476), (9162789.75537524, 9203208.644624759), (18459059.95537524, 18499478.844624758), (11337255.105375241, 11377673.99462476), (9629544.55537524, 9669963.44462476), (11678330.65537524, 11718749.544624759), (11361590.55537524, 11402009.44462476), (7372218.05537524, 7412636.94462476), (12469120.00537524, 12509538.894624759), (10402282.80537524, 10442701.69462476), (9772081.25537524, 9812500.144624759), (8770741.205375241, 8811160.09462476), (14968560.205375241, 15008979.09462476), (9724440.105375241, 9764858.99462476), (10645986.355375241, 10686405.24462476), (6181316.80537524, 6221735.69462476), (9478131.40537524, 9518550.294624759), (6309298.05537524, 6349716.94462476), (10179207.25537524, 10219626.144624759), (13594509.05537524, 13634927.94462476), (7659465.405375239, 7699884.29462476), (19267371.85537524, 19307790.74462476), (12492144.55537524, 12532563.44462476), (9531070.40537524, 9571489.294624759), (7311223.25537524, 7351642.14462476), (5524453.05537524, 5564871.94462476), (9502121.40537524, 9542540.294624759), (7111395.25537524, 7151814.14462476), (10179686.15537524, 10220105.044624759), (17988907.155375242, 18029326.04462476), (13012465.855375241, 13052884.74462476), (5231526.80537524, 5271945.69462476), (8751378.00537524, 8791796.894624759), (8833893.55537524, 8874312.44462476), (5694141.80537524, 5734560.69462476), (6287352.30537524, 6327771.19462476), (12414820.455375241, 12455239.34462476), (10420788.855375241, 10461207.74462476), (10191927.25537524, 10232346.144624759), (7239716.80537524, 7280135.69462476), (14506592.15537524, 14547011.044624759), (5197646.80537524, 5238065.69462476), (9611950.65537524, 9652369.544624759), (12735896.75537524, 12776315.644624759), (7029795.55537524, 7070214.44462476), (10729100.00537524, 10769518.894624759), (6955958.05537524, 6996376.94462476), (13488364.55537524, 13528783.44462476), (11941178.705375241, 11981597.59462476), (9057381.55537524, 9097800.44462476), (8203195.55537524, 8243614.44462476), (18929075.35537524, 18969494.24462476), (11716107.705375241, 11756526.59462476), (5905068.05537524, 5945486.94462476), (8795138.15537524, 8835557.044624759), (7452920.55537524, 7493339.44462476), (9598461.955375241, 9638880.84462476), (13811228.25537524, 13851647.144624759), (8893587.15537524, 8934006.044624759), (11670419.50537524, 11710838.394624759), (20297340.155375242, 20337759.04462476), (12166843.05537524, 12207261.94462476), (8750611.50537524, 8791030.394624759), (17173027.155375242, 17213446.04462476), (5741551.80537524, 5781970.69462476), (7052132.20537524, 7092551.094624761), (4885578.05537524, 4925996.94462476), (7311017.85537524, 7351436.74462476), (8792069.30537524, 8832488.19462476), (8464508.90537524, 8504927.794624759), (10585647.05537524, 10626065.94462476), (8076954.70537524, 8117373.594624761), (6665232.10537524, 6705650.99462476), (4155859.30537524, 4196278.19462476), (13539948.855375241, 13580367.74462476), (12789052.955375241, 12829471.84462476), (9659788.355375241, 9700207.24462476), (12135962.55537524, 12176381.44462476), (18726669.95537524, 18767088.844624758), (9334387.105375241, 9374805.99462476), (12718892.355375241, 12759311.24462476), (8544763.355375241, 8585182.24462476), (12600055.955375241, 12640474.84462476), (21917206.05537524, 21957624.94462476), (9167496.65537524, 9207915.544624759), (8501070.30537524, 8541489.19462476), (10313639.30537524, 10354058.19462476), (9779098.25537524, 9819517.144624759), (13823699.15537524, 13864118.044624759), (9313048.75537524, 9353467.644624759), (9375563.05537524, 9415981.94462476), (10644246.955375241, 10684665.84462476), (6369362.95537524, 6409781.844624761), (9738215.955375241, 9778634.84462476), (11575127.955375241, 11615546.84462476), (9712318.80537524, 9752737.69462476), (8916087.355375241, 8956506.24462476), (14004543.955375241, 14044962.84462476), (8725507.955375241, 8765926.84462476), (10763078.05537524, 10803496.94462476), (13775301.25537524, 13815720.144624759), (6216315.10537524, 6256733.99462476), (7523316.80537524, 7563735.69462476), (9731631.15537524, 9772050.044624759), (12382289.15537524, 12422708.044624759), (12304832.355375241, 12345251.24462476), (7929743.05537524, 7970161.94462476), (12255732.955375241, 12296151.84462476), (8134148.05537524, 8174566.94462476), (9349146.955375241, 9389565.84462476), (10572687.75537524, 10613106.644624759), (11582459.15537524, 11622878.044624759), (9683102.855375241, 9723521.74462476), (8078839.60537524, 8119258.49462476), (9073508.90537524, 9113927.794624759), (9433359.855375241, 9473778.74462476), (13115928.55537524, 13156347.44462476), (10797169.75537524, 10837588.644624759), (9094912.855375241, 9135331.74462476), (8519650.55537524, 8560069.44462476), (14340504.205375241, 14380923.09462476), (21914465.55537524, 21954884.44462476), (10195250.00537524, 10235668.894624759), (8454827.705375241, 8495246.59462476), (8401984.25537524, 8442403.144624759), (10383817.30537524, 10424236.19462476), (11692937.75537524, 11733356.644624759), (20240981.155375242, 20281400.04462476), (11309209.955375241, 11349628.84462476), (20777445.155375242, 20817864.04462476), (14138878.05537524, 14179296.94462476), (11582475.705375241, 11622894.59462476), (9330570.455375241, 9370989.34462476), (17517534.155375242, 17557953.04462476), (10685154.05537524, 10725572.94462476), (14261079.05537524, 14301497.94462476), (8389171.80537524, 8429590.69462476), (3830405.55537524, 3870824.44462476), (9079811.355375241, 9120230.24462476), (10178035.55537524, 10218454.44462476), (10650439.355375241, 10690858.24462476), (10430744.455375241, 10471163.34462476), (7884269.60537524, 7924688.49462476), (6142683.05537524, 6183101.94462476), (9894334.00537524, 9934752.894624759), (8190660.55537524, 8231079.44462476), (10510581.75537524, 10551000.644624759), (7604483.75537524, 7644902.64462476), (8210419.45537524, 8250838.344624761), (6675150.655375239, 6715569.54462476), (13236650.00537524, 13277068.894624759), (6915589.30537524, 6956008.19462476), (9005222.15537524, 9045641.044624759), (10697957.80537524, 10738376.69462476), (12986795.65537524, 13027214.544624759), (13952317.15537524, 13992736.044624759), (14633976.205375241, 14674395.09462476), (12452789.705375241, 12493208.59462476), (6576734.30537524, 6617153.19462476), (7533580.55537524, 7573999.44462476), (10223437.30537524, 10263856.19462476), (13163165.25537524, 13203584.144624759), (8087765.905375239, 8128184.79462476), (11871912.855375241, 11912331.74462476), (14156253.00537524, 14196671.894624759), (5823635.85537524, 5864054.74462476), (13397676.75537524, 13438095.644624759), (12499415.55537524, 12539834.44462476), (3822575.55537524, 3862994.44462476), (6656301.80537524, 6696720.69462476), (16438784.855375241, 16479203.74462476), (10226427.15537524, 10266846.044624759), (8158073.405375239, 8198492.29462476), (8449221.75537524, 8489640.644624759), (14368007.75537524, 14408426.644624759), (8605473.00537524, 8645891.894624759), (5184333.95537524, 5224752.844624761), (13094702.955375241, 13135121.84462476), (8926115.05537524, 8966533.94462476), (12081756.15537524, 12122175.044624759), (6108423.05537524, 6148841.94462476), (10861760.355375241, 10902179.24462476), (13696293.65537524, 13736712.544624759), (9225821.705375241, 9266240.59462476), (10881166.75537524, 10921585.644624759), (18062574.55537524, 18102993.44462476), (13313337.30537524, 13353756.19462476), (14726992.05537524, 14767410.94462476), (10746801.05537524, 10787219.94462476), (9249845.00537524, 9290263.894624759), (6650986.80537524, 6691405.69462476), (9905249.65537524, 9945668.544624759), (11745844.55537524, 11786263.44462476), (3613751.80537524, 3654170.69462476), (10481934.75537524, 10522353.644624759), (6814993.05537524, 6855411.94462476), (12095464.855375241, 12135883.74462476), (11653222.75537524, 11693641.644624759), (11671461.15537524, 11711880.044624759), (13407452.80537524, 13447871.69462476), (13368791.80537524, 13409210.69462476), (7985832.05537524, 8026250.94462476), (10987625.955375241, 11028044.84462476), (20623453.85537524, 20663872.74462476), (13622932.55537524, 13663351.44462476), (18668717.35537524, 18709136.24462476), (12770471.955375241, 12810890.84462476), (11809428.05537524, 11849846.94462476), (9611422.455375241, 9651841.34462476), (12501692.15537524, 12542111.044624759), (6441519.30537524, 6481938.19462476), (8416667.205375241, 8457086.09462476), (10669594.80537524, 10710013.69462476), (9461726.80537524, 9502145.69462476), (14013394.355375241, 14053813.24462476), (10627512.05537524, 10667930.94462476), (17178225.45537524, 17218644.344624758), (13796461.05537524, 13836879.94462476), (9213380.65537524, 9253799.544624759), (10664512.705375241, 10704931.59462476), (11371513.65537524, 11411932.544624759), (11258707.355375241, 11299126.24462476), (7518007.25537524, 7558426.14462476), (4277950.55537524, 4318369.44462476), (18254559.35537524, 18294978.24462476), (13103780.65537524, 13144199.544624759), (8411392.25537524, 8451811.144624759), (13474507.25537524, 13514926.144624759), (9636991.50537524, 9677410.394624759), (7536992.20537524, 7577411.094624761), (9174393.855375241, 9214812.74462476), (11548593.455375241, 11589012.34462476), (7964534.25537524, 8004953.14462476), (11382254.205375241, 11422673.09462476), (9140297.55537524, 9180716.44462476), (5874220.55537524, 5914639.44462476), (7314720.80537524, 7355139.69462476), (20129189.85537524, 20169608.74462476), (9324732.705375241, 9365151.59462476), (14109335.65537524, 14149754.544624759), (12697835.55537524, 12738254.44462476), (8368092.655375239, 8408511.544624759), (17236777.35537524, 17277196.24462476), (8382875.80537524, 8423294.69462476), (9752998.05537524, 9793416.94462476), (12759839.355375241, 12800258.24462476), (9339665.05537524, 9380083.94462476), (7316562.45537524, 7356981.344624761), (14300226.25537524, 14340645.144624759), (5189138.05537524, 5229556.94462476), (18932333.155375242, 18972752.04462476), (9885965.15537524, 9926384.044624759), (8382380.55537524, 8422799.44462476), (8141546.80537524, 8181965.69462476), (9632101.855375241, 9672520.74462476), (12071531.355375241, 12111950.24462476), (9827999.25537524, 9868418.144624759), (4233321.80537524, 4273740.69462476), (13889803.80537524, 13930222.69462476), (4376643.05537524, 4417061.94462476), (7738812.05537524, 7779230.94462476), (6020660.55537524, 6061079.44462476), (5331715.55537524, 5372134.44462476), (14261803.15537524, 14302222.044624759), (14667057.355375241, 14707476.24462476), (6221429.30537524, 6261848.19462476), (9919037.15537524, 9959456.044624759), (7729869.75537524, 7770288.64462476), (8469247.355375241, 8509666.24462476), (14367382.55537524, 14407801.44462476), (10524771.80537524, 10565190.69462476), (8635586.40537524, 8676005.294624759), (8015027.50537524, 8055446.39462476), (6776342.60537524, 6816761.49462476), (9428340.90537524, 9468759.794624759), (13286040.25537524, 13326459.144624759), (7966797.35537524, 8007216.24462476), (8151416.80537524, 8191835.69462476), (8575404.65537524, 8615823.544624759), (11638728.05537524, 11679146.94462476), (10528115.355375241, 10568534.24462476), (8985783.80537524, 9026202.69462476), (4466825.55537524, 4507244.44462476), (10195060.955375241, 10235479.84462476), (10414736.855375241, 10455155.74462476), (5765796.80537524, 5806215.69462476), (6858311.905375239, 6898730.79462476), (9984504.25537524, 10024923.144624759), (8044651.405375239, 8085070.29462476), (13849304.955375241, 13889723.84462476), (9798433.55537524, 9838852.44462476), (9798282.355375241, 9838701.24462476), (11075581.05537524, 11115999.94462476), (8563550.50537524, 8603969.394624759), (7141838.55537524, 7182257.44462476), (10750441.855375241, 10790860.74462476), (9017675.955375241, 9058094.84462476), (5991513.05537524, 6031931.94462476), (5440211.80537524, 5480630.69462476), (9833823.55537524, 9874242.44462476), (11068890.25537524, 11109309.144624759), (7453892.45537524, 7494311.344624761), (11840588.05537524, 11881006.94462476), (10306220.90537524, 10346639.794624759), (9738258.705375241, 9778677.59462476), (12829405.955375241, 12869824.84462476), (8539325.55537524, 8579744.44462476), (8244397.655375239, 8284816.54462476), (6085381.80537524, 6125800.69462476), (13918616.855375241, 13959035.74462476), (12855670.05537524, 12896088.94462476), (8133248.85537524, 8173667.74462476), (12371381.15537524, 12411800.044624759), (8619849.75537524, 8660268.644624759), (8483602.205375241, 8524021.09462476), (4213089.30537524, 4253508.19462476), (9343146.00537524, 9383564.894624759), (5520178.05537524, 5560596.94462476), (20117944.45537524, 20158363.344624758), (10589068.955375241, 10629487.84462476), (6216100.55537524, 6256519.44462476), (10275390.355375241, 10315809.24462476), (11389200.105375241, 11429618.99462476), (14149029.15537524, 14189448.044624759), (14757914.355375241, 14798333.24462476), (9096688.05537524, 9137106.94462476), (4935490.55537524, 4975909.44462476), (9429356.90537524, 9469775.794624759), (12386302.25537524, 12426721.144624759), (5326983.155375239, 5367402.04462476), (8439909.30537524, 8480328.19462476), (20397811.55537524, 20438230.44462476), (9191601.25537524, 9232020.144624759), (8512651.355375241, 8553070.24462476), (14973781.65537524, 15014200.544624759), (9375437.105375241, 9415855.99462476), (12267492.355375241, 12307911.24462476), (13003507.205375241, 13043926.09462476), (17642306.85537524, 17682725.74462476), (4446056.80537524, 4486475.69462476), (17651471.155375242, 17691890.04462476), (6251600.45537524, 6292019.344624761), (10397646.05537524, 10438064.94462476), (8467048.105375241, 8507466.99462476), (7249553.55537524, 7289972.44462476), (22504804.85537524, 22545223.74462476), (12066954.455375241, 12107373.34462476), (18493455.05537524, 18533873.94462476), (20295147.25537524, 20335566.14462476), (21891376.05537524, 21931794.94462476), (11716533.355375241, 11756952.24462476), (7341458.05537524, 7381876.94462476), (10587324.75537524, 10627743.644624759), (8100468.10537524, 8140886.99462476), (13010536.355375241, 13050955.24462476), (12795404.75537524, 12835823.644624759), (10889311.25537524, 10929730.144624759), (12113137.75537524, 12153556.644624759), (8637526.15537524, 8677945.044624759), (11984124.855375241, 12024543.74462476), (9498021.50537524, 9538440.394624759), (10772299.855375241, 10812718.74462476), (11524727.605375241, 11565146.49462476), (15309978.855375241, 15350397.74462476), (15580801.65537524, 15621220.544624759), (9669647.455375241, 9710066.34462476), (10330470.05537524, 10370888.94462476), (7689353.55537524, 7729772.44462476), (9265115.80537524, 9305534.69462476), (9108771.15537524, 9149190.044624759), (8649623.75537524, 8690042.644624759), (12032701.25537524, 12073120.144624759), (12890111.455375241, 12930530.34462476), (6804435.55537524, 6844854.44462476), (11710732.955375241, 11751151.84462476), (13677276.455375241, 13717695.34462476), (12253559.455375241, 12293978.34462476), (12080806.15537524, 12121225.044624759), (15013966.855375241, 15054385.74462476), (7988076.80537524, 8028495.69462476), (11744608.55537524, 11785027.44462476), (19997412.95537524, 20037831.844624758), (19068320.655375242, 19108739.54462476), (6754214.655375239, 6794633.54462476), (13585676.25537524, 13626095.144624759), (21160435.25537524, 21200854.14462476), (9048004.355375241, 9088423.24462476), (9500113.855375241, 9540532.74462476), (7297860.55537524, 7338279.44462476), (21187160.75537524, 21227579.64462476), (9972949.80537524, 10013368.69462476), (7274110.55537524, 7314529.44462476), (18962920.45537524, 19003339.344624758), (18551757.45537524, 18592176.344624758), (13748980.55537524, 13789399.44462476), (10645292.50537524, 10685711.394624759), (12684895.05537524, 12725313.94462476), (10430262.355375241, 10470681.24462476), (15996834.50537524, 16037253.394624759), (12499302.75537524, 12539721.644624759), (11009995.705375241, 11050414.59462476), (11983345.15537524, 12023764.044624759), (5384404.30537524, 5424823.19462476), (13603251.75537524, 13643670.644624759), (8440835.80537524, 8481254.69462476), (6084152.20537524, 6124571.094624761), (13680893.455375241, 13721312.34462476), (14289308.955375241, 14329727.84462476), (12042484.05537524, 12082902.94462476), (15511494.25537524, 15551913.144624759), (15136158.75537524, 15176577.644624759), (10213279.05537524, 10253697.94462476), (7695737.70537524, 7736156.594624761), (10816922.75537524, 10857341.644624759), (10307248.05537524, 10347666.94462476), (16574485.455375241, 16614904.34462476), (13817289.90537524, 13857708.794624759), (12244591.15537524, 12285010.044624759), (9880319.55537524, 9920738.44462476), (6815410.55537524, 6855829.44462476), (12512362.855375241, 12552781.74462476), (21791078.75537524, 21831497.64462476), (10184106.705375241, 10224525.59462476), (10013563.65537524, 10053982.544624759), (13967067.75537524, 14007486.644624759), (11679965.05537524, 11720383.94462476), (6494019.30537524, 6534438.19462476), (12937209.855375241, 12977628.74462476), (17731549.75537524, 17771968.64462476), (9955584.65537524, 9996003.544624759), (10363292.855375241, 10403711.74462476), (10833193.855375241, 10873612.74462476), (8866055.55537524, 8906474.44462476), (3963904.30537524, 4004323.19462476), (12189570.455375241, 12229989.34462476), (8887018.15537524, 8927437.044624759), (7840017.10537524, 7880435.99462476), (8470593.855375241, 8511012.74462476), (12072246.205375241, 12112665.09462476), (18362247.55537524, 18402666.44462476), (14809708.25537524, 14850127.144624759), (20747614.95537524, 20788033.844624758), (9207210.90537524, 9247629.794624759), (9987762.00537524, 10028180.894624759), (17871695.75537524, 17912114.64462476), (11493135.80537524, 11533554.69462476), (8822628.75537524, 8863047.644624759), (8110108.05537524, 8150526.94462476), (18224367.55537524, 18264786.44462476), (5301675.55537524, 5342094.44462476), (12723528.355375241, 12763947.24462476), (8296014.30537524, 8336433.19462476), (9702616.00537524, 9743034.894624759), (13440669.00537524, 13481087.894624759), (7568578.155375239, 7608997.04462476), (7552901.25537524, 7593320.14462476), (7412733.05537524, 7453151.94462476), (6746830.55537524, 6787249.44462476), (8827628.00537524, 8868046.894624759), (6286011.80537524, 6326430.69462476), (10661324.65537524, 10701743.544624759), (6618616.80537524, 6659035.69462476), (10872196.55537524, 10912615.44462476), (7723702.00537524, 7764120.89462476), (9513672.15537524, 9554091.044624759), (6947888.85537524, 6988307.74462476), (13018405.05537524, 13058823.94462476), (16183659.455375241, 16224078.34462476), (11770046.55537524, 11810465.44462476), (5701236.80537524, 5741655.69462476), (13745168.05537524, 13785586.94462476), (12833684.65537524, 12874103.544624759), (10681788.05537524, 10722206.94462476), (5073014.30537524, 5113433.19462476), (9552994.80537524, 9593413.69462476), (10453610.75537524, 10494029.644624759), (9625570.65537524, 9665989.544624759), (14869642.55537524, 14910061.44462476), (10093263.75537524, 10133682.644624759), (12660155.355375241, 12700574.24462476), (5977948.05537524, 6018366.94462476), (5930470.55537524, 5970889.44462476), (12002185.00537524, 12042603.894624759), (10759031.65537524, 10799450.544624759), (7475668.95537524, 7516087.844624761), (9398726.855375241, 9439145.74462476), (16242691.25537524, 16283110.144624759), (13843034.705375241, 13883453.59462476), (8125727.655375239, 8166146.54462476), (11769816.05537524, 11810234.94462476), (9017152.955375241, 9057571.84462476), (5913538.10537524, 5953956.99462476), (9628951.955375241, 9669370.84462476), (9694860.05537524, 9735278.94462476), (10185525.50537524, 10225944.394624759), (15885906.25537524, 15926325.144624759), (13711311.455375241, 13751730.34462476), (9737485.75537524, 9777904.644624759), (22627597.155375242, 22668016.04462476), (12552610.855375241, 12593029.74462476), (6692405.905375239, 6732824.79462476), (6672320.55537524, 6712739.44462476), (9103911.00537524, 9144329.894624759), (9809473.75537524, 9849892.644624759), (15678559.65537524, 15718978.544624759), (13933082.15537524, 13973501.044624759), (11348746.455375241, 11389165.34462476), (5610138.05537524, 5650556.94462476), (7022532.50537524, 7062951.39462476), (12407331.955375241, 12447750.84462476), (8261582.45537524, 8302001.344624761), (13937849.05537524, 13978267.94462476), (8329345.10537524, 8369763.99462476), (9903494.855375241, 9943913.74462476), (11458243.65537524, 11498662.544624759), (10177927.25537524, 10218346.144624759), (8647748.05537524, 8688166.94462476), (11741663.25537524, 11782082.144624759), (10638535.25537524, 10678954.144624759), (13163716.15537524, 13204135.044624759), (7983125.55537524, 8023544.44462476), (6592985.55537524, 6633404.44462476), (11778899.455375241, 11819318.34462476), (6641257.905375239, 6681676.79462476), (6730924.405375239, 6771343.29462476), (8804998.30537524, 8845417.19462476), (10104202.25537524, 10144621.144624759), (13379735.25537524, 13420154.144624759), (11583169.75537524, 11623588.644624759), (14384789.55537524, 14425208.44462476), (9688638.955375241, 9729057.84462476), (10458205.55537524, 10498624.44462476), (21272655.05537524, 21313073.94462476), (11559686.05537524, 11600104.94462476), (9287756.105375241, 9328174.99462476), (9427945.55537524, 9468364.44462476), (11478947.05537524, 11519365.94462476), (14403322.75537524, 14443741.644624759), (7738426.05537524, 7778844.94462476), (13805387.65537524, 13845806.544624759), (14187974.05537524, 14228392.94462476), (15404326.15537524, 15444745.044624759), (13874628.355375241, 13915047.24462476), (8360081.35537524, 8400500.24462476), (13172538.75537524, 13212957.644624759), (8118262.45537524, 8158681.344624761), (19764247.75537524, 19804666.64462476), (8702948.455375241, 8743367.34462476), (5106190.55537524, 5146609.44462476), (10189496.50537524, 10229915.394624759), (11569587.90537524, 11610006.794624759), (6857534.30537524, 6897953.19462476), (12217409.455375241, 12257828.34462476), (7210458.05537524, 7250876.94462476), (7944537.905375239, 7984956.79462476), (21675651.95537524, 21716070.844624758), (9987943.05537524, 10028361.94462476), (9095367.50537524, 9135786.394624759), (14648793.75537524, 14689212.644624759), (13450894.25537524, 13491313.144624759), (6075828.05537524, 6116246.94462476), (12049962.15537524, 12090381.044624759), (14623095.355375241, 14663514.24462476), (11909858.30537524, 11950277.19462476), (9117702.15537524, 9158121.044624759), (7318689.30537524, 7359108.19462476), (11401948.55537524, 11442367.44462476), (19533271.155375242, 19573690.04462476), (7431163.85537524, 7471582.74462476), (7943048.05537524, 7983466.94462476), (10861404.205375241, 10901823.09462476), (11727920.355375241, 11768339.24462476), (17721649.655375242, 17762068.54462476), (12868683.65537524, 12909102.544624759), (12361022.50537524, 12401441.394624759), (9175072.15537524, 9215491.044624759), (4211958.05537524, 4252376.94462476), (5102550.55537524, 5142969.44462476), (9817368.05537524, 9857786.94462476), (6371419.30537524, 6411838.19462476), (6955745.70537524, 6996164.594624761), (8650340.55537524, 8690759.44462476), (8958614.455375241, 8999033.34462476), (16280406.65537524, 16320825.544624759), (7505068.155375239, 7545487.04462476), (11145077.705375241, 11185496.59462476), (11264827.855375241, 11305246.74462476), (15472907.855375241, 15513326.74462476), (11623935.15537524, 11664354.044624759), (11541388.05537524, 11581806.94462476), (5899684.30537524, 5940103.19462476), (16152749.855375241, 16193168.74462476), (12232582.05537524, 12273000.94462476), (7089911.80537524, 7130330.69462476), (11720048.05537524, 11760466.94462476), (8457571.05537524, 8497989.94462476), (6857610.80537524, 6898029.69462476), (10507828.90537524, 10548247.794624759), (16443358.05537524, 16483776.94462476), (14392912.05537524, 14433330.94462476), (5838934.30537524, 5879353.19462476), (19538381.155375242, 19578800.04462476), (9590414.65537524, 9630833.544624759), (8472239.605375241, 8512658.49462476), (21068642.75537524, 21109061.64462476), (9892864.355375241, 9933283.24462476), (21895462.155375242, 21935881.04462476), (9173543.605375241, 9213962.49462476), (9110515.855375241, 9150934.74462476), (5771218.05537524, 5811636.94462476), (6358353.05537524, 6398771.94462476), (5783695.55537524, 5824114.44462476), (16527126.25537524, 16567545.144624759), (12826306.15537524, 12866725.044624759), (11163282.75537524, 11203701.644624759), (7066452.00537524, 7106870.89462476), (7915334.30537524, 7955753.19462476), (12598953.05537524, 12639371.94462476), (9399256.65537524, 9439675.544624759), (8276710.905375239, 8317129.79462476), (10737163.05537524, 10777581.94462476), (9700374.75537524, 9740793.644624759), (8037000.45537524, 8077419.344624761), (8200896.10537524, 8241314.99462476), (9692171.55537524, 9732590.44462476), (19860821.95537524, 19901240.844624758), (9687090.855375241, 9727509.74462476), (8100614.60537524, 8141033.49462476), (9939277.00537524, 9979695.894624759), (14820919.455375241, 14861338.34462476), (11970070.55537524, 12010489.44462476), (9626548.55537524, 9666967.44462476), (20332450.25537524, 20372869.14462476), (8841005.705375241, 8881424.59462476), (6627835.655375239, 6668254.54462476), (11060709.15537524, 11101128.044624759), (6996160.55537524, 7036579.44462476), (7035306.95537524, 7075725.844624761), (7772093.655375239, 7812512.54462476), (13874408.75537524, 13914827.644624759), (9382496.40537524, 9422915.294624759), (6638747.80537524, 6679166.69462476), (7317658.35537524, 7358077.24462476), (7857502.05537524, 7897920.94462476), (6488034.30537524, 6528453.19462476), (7847178.45537524, 7887597.344624761), (4224371.80537524, 4264790.69462476), (21443986.75537524, 21484405.64462476), (7567792.05537524, 7608210.94462476), (13385039.15537524, 13425458.044624759), (7932557.10537524, 7972975.99462476), (12128499.55537524, 12168918.44462476), (7135672.405375239, 7176091.29462476), (9094926.75537524, 9135345.644624759), (7005107.75537524, 7045526.64462476), (19734103.95537524, 19774522.844624758), (7217257.75537524, 7257676.64462476), (6917442.50537524, 6957861.39462476), (8686613.90537524, 8727032.794624759), (9263878.05537524, 9304296.94462476), (11423093.05537524, 11463511.94462476), (10014382.15537524, 10054801.044624759), (9465316.955375241, 9505735.84462476), (14390090.15537524, 14430509.044624759), (7096235.55537524, 7136654.44462476), (12960184.355375241, 13000603.24462476), (7285308.70537524, 7325727.594624761), (9359362.90537524, 9399781.794624759), (7974139.20537524, 8014558.094624761), (7721672.45537524, 7762091.344624761), (14492772.55537524, 14533191.44462476), (7819858.05537524, 7860276.94462476), (21306537.75537524, 21346956.64462476), (12111092.05537524, 12151510.94462476), (9875785.105375241, 9916203.99462476), (10686561.455375241, 10726980.34462476), (8342395.35537524, 8382814.24462476), (12795000.75537524, 12835419.644624759), (9852378.55537524, 9892797.44462476), (10628973.855375241, 10669392.74462476), (8487357.705375241, 8527776.59462476), (4456783.05537524, 4497201.94462476), (12017969.40537524, 12058388.294624759), (6573425.55537524, 6613844.44462476), (17020029.85537524, 17060448.74462476), (14894145.955375241, 14934564.84462476), (11039859.105375241, 11080277.99462476), (6367791.60537524, 6408210.49462476), (12935973.05537524, 12976391.94462476), (14551950.855375241, 14592369.74462476), (14130167.105375241, 14170585.99462476), (13608435.205375241, 13648854.09462476), (7578978.05537524, 7619396.94462476), (12804802.65537524, 12845221.544624759), (11621446.55537524, 11661865.44462476), (13906112.65537524, 13946531.544624759), (9003653.605375241, 9044072.49462476), (8340134.35537524, 8380553.24462476), (10324700.90537524, 10365119.794624759), (8152199.405375239, 8192618.29462476), (6218460.905375239, 6258879.79462476), (9982316.205375241, 10022735.09462476), (8475480.455375241, 8515899.34462476), (7498283.405375239, 7538702.29462476), (8271049.95537524, 8311468.844624761), (6847208.05537524, 6887626.94462476), (13852632.955375241, 13893051.84462476), (11531129.90537524, 11571548.794624759), (7536454.905375239, 7576873.79462476), (12508872.75537524, 12549291.644624759), (3611223.05537524, 3651641.94462476), (8949008.955375241, 8989427.84462476), (5532845.55537524, 5573264.44462476), (16073907.55537524, 16114326.44462476), (9433210.55537524, 9473629.44462476), (11698013.65537524, 11738432.544624759), (8192748.20537524, 8233167.094624761), (20699882.75537524, 20740301.64462476), (9346658.05537524, 9387076.94462476), (12683516.75537524, 12723935.644624759), (12032252.55537524, 12072671.44462476), (10380027.355375241, 10420446.24462476), (5387531.80537524, 5427950.69462476), (9151533.75537524, 9191952.644624759), (10139795.55537524, 10180214.44462476), (10683123.65537524, 10723542.544624759), (9133878.05537524, 9174296.94462476), (15765279.55537524, 15805698.44462476), (11238981.955375241, 11279400.84462476), (8555945.955375241, 8596364.84462476), (10467506.65537524, 10507925.544624759), (9708352.75537524, 9748771.644624759), (10580798.90537524, 10621217.794624759), (12288235.355375241, 12328654.24462476), (9621769.75537524, 9662188.644624759), (12618711.355375241, 12659130.24462476), (7543038.85537524, 7583457.74462476), (11757650.355375241, 11798069.24462476), (15389537.455375241, 15429956.34462476), (13286914.15537524, 13327333.044624759), (9379770.55537524, 9420189.44462476), (9007978.90537524, 9048397.794624759), (9920060.105375241, 9960478.99462476), (15567507.15537524, 15607926.044624759), (7154979.30537524, 7195398.19462476), (9940179.15537524, 9980598.044624759), (13332828.855375241, 13373247.74462476), (7850775.30537524, 7891194.19462476), (12140132.955375241, 12180551.84462476), (7178276.655375239, 7218695.54462476), (12512526.605375241, 12552945.49462476), (11708782.75537524, 11749201.644624759), (14707695.455375241, 14748114.34462476), (9233149.25537524, 9273568.144624759), (11344460.65537524, 11384879.544624759), (8507180.40537524, 8547599.294624759), (12437750.55537524, 12478169.44462476), (8767945.15537524, 8808364.044624759), (11047888.105375241, 11088306.99462476), (8309552.80537524, 8349971.69462476), (12758508.65537524, 12798927.544624759), (10861506.25537524, 10901925.144624759), (7252638.00537524, 7293056.89462476), (10421709.65537524, 10462128.544624759), (10543552.75537524, 10583971.644624759), (20821645.85537524, 20862064.74462476), (12841931.75537524, 12882350.644624759), (10023621.355375241, 10064040.24462476), (14056456.955375241, 14096875.84462476), (15124299.355375241, 15164718.24462476), (8966852.705375241, 9007271.59462476), (14750827.25537524, 14791246.144624759), (15278337.855375241, 15318756.74462476), (7549390.75537524, 7589809.64462476), (6403873.05537524, 6444291.94462476), (18979713.55537524, 19020132.44462476), (14559893.90537524, 14600312.794624759), (13655857.205375241, 13696276.09462476), (13646160.55537524, 13686579.44462476), (10360846.455375241, 10401265.34462476), (13473866.55537524, 13514285.44462476), (9128799.355375241, 9169218.24462476), (17542938.55537524, 17583357.44462476), (9354308.355375241, 9394727.24462476), (14020134.15537524, 14060553.044624759), (9807170.55537524, 9847589.44462476), (11278151.40537524, 11318570.294624759), (11167023.40537524, 11207442.294624759), (9223049.65537524, 9263468.544624759), (9509590.15537524, 9550009.044624759), (9666921.955375241, 9707340.84462476), (9927611.605375241, 9968030.49462476), (7985180.55537524, 8025599.44462476), (18710163.75537524, 18750582.64462476), (13085176.75537524, 13125595.644624759), (8195720.55537524, 8236139.44462476), (9264480.55537524, 9304899.44462476), (9780866.205375241, 9821285.09462476), (22570578.55537524, 22610997.44462476), (10543793.05537524, 10584211.94462476), (5480656.30537524, 5521075.19462476), (9546186.05537524, 9586604.94462476), (11630119.75537524, 11670538.644624759), (7719005.55537524, 7759424.44462476), (10434255.15537524, 10474674.044624759), (19839649.155375242, 19880068.04462476), (21383167.05537524, 21423585.94462476), (11997967.705375241, 12038386.59462476), (8121560.55537524, 8161979.44462476), (10736831.25537524, 10777250.144624759), (10868528.40537524, 10908947.294624759), (13348628.00537524, 13389046.894624759), (7881589.75537524, 7922008.64462476), (8182073.85537524, 8222492.74462476), (9011897.05537524, 9052315.94462476), (9713506.05537524, 9753924.94462476), (18225415.55537524, 18265834.44462476), (5206625.75537524, 5247044.64462476), (8169524.35537524, 8209943.24462476), (8009385.55537524, 8049804.44462476), (8741802.355375241, 8782221.24462476), (6461283.155375239, 6501702.04462476), (8430008.05537524, 8470426.94462476), (12308533.25537524, 12348952.144624759), (17834012.55537524, 17874431.44462476), (4274754.30537524, 4315173.19462476), (13607875.80537524, 13648294.69462476), (16763039.655375242, 16803458.54462476), (12515035.55537524, 12555454.44462476), (12767864.75537524, 12808283.644624759), (9674419.75537524, 9714838.644624759), (10102269.455375241, 10142688.34462476), (8516433.75537524, 8556852.644624759), (8682492.955375241, 8722911.84462476), (6680293.50537524, 6720712.39462476), (11695490.05537524, 11735908.94462476), (11717313.30537524, 11757732.19462476), (8815103.05537524, 8855521.94462476), (12098887.355375241, 12139306.24462476), (12449682.05537524, 12490100.94462476), (8266932.05537524, 8307350.94462476), (12471941.55537524, 12512360.44462476), (10054103.50537524, 10094522.394624759), (6420906.655375239, 6461325.54462476), (9193139.05537524, 9233557.94462476), (7504818.70537524, 7545237.594624761), (22150554.95537524, 22190973.844624758), (8466012.40537524, 8506431.294624759), (14374650.355375241, 14415069.24462476), (9452624.55537524, 9493043.44462476), (5420248.05537524, 5460666.94462476), (7983699.00537524, 8024117.89462476), (10847438.05537524, 10887856.94462476), (7903622.80537524, 7944041.69462476), (9048646.50537524, 9089065.394624759), (9478956.50537524, 9519375.394624759), (9299021.65537524, 9339440.544624759), (12164113.05537524, 12204531.94462476), (5766610.55537524, 5807029.44462476), (7599541.50537524, 7639960.39462476), (6285056.85537524, 6325475.74462476), (6685008.30537524, 6725427.19462476), (7980765.55537524, 8021184.44462476), (7366614.00537524, 7407032.89462476), (12854584.65537524, 12895003.544624759), (13264351.855375241, 13304770.74462476), (17040624.75537524, 17081043.64462476), (9213568.65537524, 9253987.544624759), (11741715.205375241, 11782134.09462476), (12653821.15537524, 12694240.044624759), (10538996.50537524, 10579415.394624759), (6781015.45537524, 6821434.344624761), (7769861.80537524, 7810280.69462476), (5655336.80537524, 5695755.69462476), (10964955.855375241, 11005374.74462476), (14279070.455375241, 14319489.34462476), (8584346.455375241, 8624765.34462476), (7506875.10537524, 7547293.99462476), (8091900.25537524, 8132319.14462476), (10589987.05537524, 10630405.94462476), (14473752.75537524, 14514171.644624759), (8544404.15537524, 8584823.044624759), (6781676.905375239, 6822095.79462476), (14012303.65537524, 14052722.544624759), (18425016.155375242, 18465435.04462476), (6450639.30537524, 6491058.19462476), (13126483.955375241, 13166902.84462476), (8072555.405375239, 8112974.29462476), (4044833.05537524, 4085251.94462476), (10670192.55537524, 10710611.44462476), (9469006.105375241, 9509424.99462476), (5961080.55537524, 6001499.44462476), (12370669.05537524, 12411087.94462476), (9207413.705375241, 9247832.59462476), (7152768.05537524, 7193186.94462476), (14900172.955375241, 14940591.84462476), (7027937.20537524, 7068356.094624761), (12169751.855375241, 12210170.74462476), (12663247.15537524, 12703666.044624759), (8886967.05537524, 8927385.94462476), (10489307.105375241, 10529725.99462476), (7322975.35537524, 7363394.24462476), (7238783.05537524, 7279201.94462476), (11776030.55537524, 11816449.44462476), (9207722.90537524, 9248141.794624759), (13816332.55537524, 13856751.44462476), (4333825.55537524, 4374244.44462476), (14656269.955375241, 14696688.84462476), (10713166.75537524, 10753585.644624759), (9905643.25537524, 9946062.144624759), (5371623.05537524, 5412041.94462476), (10428721.05537524, 10469139.94462476), (13956310.65537524, 13996729.544624759), (7900400.05537524, 7940818.94462476), (20728849.75537524, 20769268.64462476), (10676591.90537524, 10717010.794624759), (9441539.40537524, 9481958.294624759), (11916609.65537524, 11957028.544624759), (16439580.455375241, 16479999.34462476), (7310863.05537524, 7351281.94462476), (21215171.25537524, 21255590.14462476), (7098759.155375239, 7139178.04462476), (4354506.80537524, 4394925.69462476), (6437914.30537524, 6478333.19462476), (12591635.40537524, 12632054.294624759), (9000441.80537524, 9040860.69462476), (10501235.90537524, 10541654.794624759), (6363069.20537524, 6403488.094624761), (10925643.855375241, 10966062.74462476), (15578964.65537524, 15619383.544624759), (10630438.955375241, 10670857.84462476), (11578295.00537524, 11618713.894624759), (8421636.25537524, 8462055.144624759), (10522442.75537524, 10562861.644624759), (6981959.85537524, 7022378.74462476), (6531679.30537524, 6572098.19462476), (12864944.75537524, 12905363.644624759), (11261362.205375241, 11301781.09462476), (9701059.955375241, 9741478.84462476), (8094185.60537524, 8134604.49462476), (19427403.25537524, 19467822.14462476), (12463110.355375241, 12503529.24462476), (7908334.155375239, 7948753.04462476), (7254051.50537524, 7294470.39462476), (9029915.15537524, 9070334.044624759), (10555440.55537524, 10595859.44462476), (10740029.65537524, 10780448.544624759), (5648400.55537524, 5688819.44462476), (10219125.955375241, 10259544.84462476), (5685133.05537524, 5725551.94462476), (12833758.80537524, 12874177.69462476), (4666648.05537524, 4707066.94462476), (12712981.105375241, 12753399.99462476), (10628646.605375241, 10669065.49462476), (8789893.955375241, 8830312.84462476), (21854928.55537524, 21895347.44462476), (12051002.25537524, 12091421.144624759), (12538948.455375241, 12579367.34462476), (12391161.75537524, 12431580.644624759), (8737203.55537524, 8777622.44462476), (10841859.55537524, 10882278.44462476), (12962394.55537524, 13002813.44462476), (21110428.75537524, 21150847.64462476), (13966596.25537524, 14007015.144624759), (11077945.605375241, 11118364.49462476), (18366110.55537524, 18406529.44462476), (4512419.30537524, 4552838.19462476), (19200689.05537524, 19241107.94462476), (6837283.05537524, 6877701.94462476), (10520423.05537524, 10560841.94462476), (6687800.70537524, 6728219.594624761), (10045272.955375241, 10085691.84462476), (13790352.455375241, 13830771.34462476), (12130050.75537524, 12170469.644624759), (8613720.05537524, 8654138.94462476), (15545161.455375241, 15585580.34462476), (8902208.55537524, 8942627.44462476), (7195338.905375239, 7235757.79462476), (14317823.15537524, 14358242.044624759), (12339045.05537524, 12379463.94462476), (14748002.15537524, 14788421.044624759), (6833198.85537524, 6873617.74462476), (9197019.65537524, 9237438.544624759), (12063055.455375241, 12103474.34462476), (11668075.55537524, 11708494.44462476), (20490269.05537524, 20530687.94462476), (9170686.25537524, 9211105.144624759), (9138973.05537524, 9179391.94462476), (18223446.155375242, 18263865.04462476), (8466123.65537524, 8506542.544624759), (6986168.60537524, 7026587.49462476), (8633406.355375241, 8673825.24462476), (21689643.45537524, 21730062.344624758), (5681528.70537524, 5721947.594624761), (7216598.905375239, 7257017.79462476), (11911787.355375241, 11952206.24462476), (13498817.955375241, 13539236.84462476), (7801870.155375239, 7842289.04462476), (9209111.605375241, 9249530.49462476), (5532264.30537524, 5572683.19462476), (11076505.65537524, 11116924.544624759), (12860501.355375241, 12900920.24462476), (6004100.55537524, 6044519.44462476), (4935434.30537524, 4975853.19462476), (10891987.30537524, 10932406.19462476), (7905850.655375239, 7946269.54462476), (12619754.65537524, 12660173.544624759), (9714454.955375241, 9754873.84462476), (16336494.955375241, 16376913.84462476), (10416751.65537524, 10457170.544624759), (8778935.55537524, 8819354.44462476), (12780447.855375241, 12820866.74462476), (9888740.25537524, 9929159.144624759), (9419206.355375241, 9459625.24462476), (6672966.70537524, 6713385.594624761), (6365831.80537524, 6406250.69462476), (10871694.955375241, 10912113.84462476), (8475546.355375241, 8515965.24462476), (21089821.25537524, 21130240.14462476), (7070974.85537524, 7111393.74462476), (8330433.05537524, 8370851.94462476), (8824930.855375241, 8865349.74462476), (12051841.705375241, 12092260.59462476), (11204744.855375241, 11245163.74462476), (8816142.105375241, 8856560.99462476), (8205462.85537524, 8245881.74462476), (5595053.05537524, 5635471.94462476), (18285328.155375242, 18325747.04462476), (7556780.95537524, 7597199.844624761), (10921852.75537524, 10962271.644624759), (7322706.70537524, 7363125.594624761), (4854738.655375239, 4895157.54462476), (6980396.405375239, 7020815.29462476), (19364240.75537524, 19404659.64462476), (8691464.25537524, 8731883.144624759), (17071942.75537524, 17112361.64462476), (13790942.25537524, 13831361.144624759), (13621912.65537524, 13662331.544624759), (8354236.60537524, 8394655.49462476), (12425680.00537524, 12466098.894624759), (5365028.05537524, 5405446.94462476), (14070682.75537524, 14111101.644624759), (14031967.80537524, 14072386.69462476), (22135775.55537524, 22176194.44462476), (12737509.25537524, 12777928.144624759), (8309300.45537524, 8349719.344624761), (8730434.705375241, 8770853.59462476), (10151864.50537524, 10192283.394624759), (11788408.75537524, 11828827.644624759), (9189797.105375241, 9230215.99462476), (16100978.55537524, 16141397.44462476), (11585001.05537524, 11625419.94462476), (10439943.05537524, 10480361.94462476), (14288669.355375241, 14329088.24462476), (14906363.355375241, 14946782.24462476), (12191787.955375241, 12232206.84462476), (15789262.55537524, 15829681.44462476), (19203577.155375242, 19243996.04462476), (9298883.05537524, 9339301.94462476), (10631712.15537524, 10672131.044624759), (14487035.355375241, 14527454.24462476), (8867241.15537524, 8907660.044624759), (11673168.355375241, 11713587.24462476), (9956605.455375241, 9997024.34462476), (11197697.855375241, 11238116.74462476), (11642707.855375241, 11683126.74462476), (12304696.75537524, 12345115.644624759), (7174370.60537524, 7214789.49462476), (4235039.30537524, 4275458.19462476), (13232183.955375241, 13272602.84462476), (17016545.655375242, 17056964.54462476), (9281468.90537524, 9321887.794624759), (16146440.75537524, 16186859.644624759), (10687955.455375241, 10728374.34462476), (10832459.05537524, 10872877.94462476), (11646800.355375241, 11687219.24462476), (9559982.355375241, 9600401.24462476), (14582141.75537524, 14622560.644624759), (12629648.55537524, 12670067.44462476), (9068321.355375241, 9108740.24462476), (8296854.405375239, 8337273.29462476), (13207982.05537524, 13248400.94462476), (7994246.10537524, 8034664.99462476), (10603416.05537524, 10643834.94462476), (6894166.60537524, 6934585.49462476), (13474172.355375241, 13514591.24462476), (8213929.25537524, 8254348.14462476), (8854679.30537524, 8895098.19462476), (10195591.25537524, 10236010.144624759), (20427081.85537524, 20467500.74462476), (11316783.455375241, 11357202.34462476), (12620638.05537524, 12661056.94462476), (8063909.20537524, 8104328.094624761), (9438454.55537524, 9478873.44462476), (9168240.955375241, 9208659.84462476), (13990585.25537524, 14031004.144624759), (13066083.355375241, 13106502.24462476), (11660940.55537524, 11701359.44462476), (19958075.25537524, 19998494.14462476), (6832353.655375239, 6872772.54462476), (9360458.05537524, 9400876.94462476), (11479797.855375241, 11520216.74462476), (11132463.25537524, 11172882.144624759), (21445063.05537524, 21485481.94462476), (6776658.45537524, 6817077.344624761), (9558334.90537524, 9598753.794624759), (6773068.45537524, 6813487.344624761), (16720693.75537524, 16761112.644624759), (9374571.75537524, 9414990.644624759), (6729494.45537524, 6769913.344624761), (14486484.25537524, 14526903.144624759), (12259719.955375241, 12300138.84462476), (7851009.10537524, 7891427.99462476), (13638993.55537524, 13679412.44462476), (14004502.455375241, 14044921.34462476), (10917195.355375241, 10957614.24462476), (12608678.355375241, 12649097.24462476), (18622062.75537524, 18662481.64462476), (7744430.55537524, 7784849.44462476), (8564743.40537524, 8605162.294624759), (9116285.205375241, 9156704.09462476), (6286225.55537524, 6326644.44462476), (13882343.25537524, 13922762.144624759), (6883544.05537524, 6923962.94462476), (5811076.80537524, 5851495.69462476), (11918039.05537524, 11958457.94462476), (10966993.15537524, 11007412.044624759), (7249548.655375239, 7289967.54462476), (20737086.45537524, 20777505.344624758), (9218469.65537524, 9258888.544624759), (6119054.30537524, 6159473.19462476), (10443410.705375241, 10483829.59462476), (12795823.65537524, 12836242.544624759), (7124253.905375239, 7164672.79462476), (9274643.55537524, 9315062.44462476), (7459555.55537524, 7499974.44462476), (11653489.355375241, 11693908.24462476), (5949759.30537524, 5990178.19462476), (10986891.65537524, 11027310.544624759), (8009439.905375239, 8049858.79462476), (9883180.705375241, 9923599.59462476), (12043554.65537524, 12083973.544624759), (16866828.25537524, 16907247.14462476), (4525969.30537524, 4566388.19462476), (9300259.05537524, 9340677.94462476), (10362376.955375241, 10402795.84462476), (12529200.355375241, 12569619.24462476), (13967102.55537524, 14007521.44462476), (8651618.90537524, 8692037.794624759), (10578989.00537524, 10619407.894624759), (13917614.955375241, 13958033.84462476), (12220201.55537524, 12260620.44462476), (14386987.355375241, 14427406.24462476), (18498770.85537524, 18539189.74462476), (17819352.655375242, 17859771.54462476), (7408999.30537524, 7449418.19462476), (9275086.75537524, 9315505.644624759), (6057976.00537524, 6098394.89462476), (7023238.35537524, 7063657.24462476), (20876207.35537524, 20916626.24462476), (11458550.15537524, 11498969.044624759), (11314213.455375241, 11354632.34462476), (9161911.30537524, 9202330.19462476), (9270353.05537524, 9310771.94462476), (8533990.05537524, 8574408.94462476), (19202796.35537524, 19243215.24462476), (13955288.15537524, 13995707.044624759), (14075321.105375241, 14115739.99462476), (8722700.05537524, 8763118.94462476), (11253860.855375241, 11294279.74462476), (10383092.65537524, 10423511.544624759), (9026446.05537524, 9066864.94462476), (7733928.10537524, 7774346.99462476), (16360757.25537524, 16401176.144624759), (12354776.55537524, 12395195.44462476), (6666611.80537524, 6707030.69462476), (9372781.90537524, 9413200.794624759), (8483045.65537524, 8523464.544624759), (6941018.05537524, 6981436.94462476), (13317605.105375241, 13358023.99462476), (12167014.75537524, 12207433.644624759), (12718904.355375241, 12759323.24462476), (4676008.05537524, 4716426.94462476), (12267904.05537524, 12308322.94462476), (11980935.955375241, 12021354.84462476), (8943209.50537524, 8983628.394624759), (7700638.00537524, 7741056.89462476), (20458927.75537524, 20499346.64462476), (13282166.25537524, 13322585.144624759), (7997660.25537524, 8038079.14462476), (13529421.65537524, 13569840.544624759), (12386753.15537524, 12427172.044624759), (9955012.105375241, 9995430.99462476), (8690659.855375241, 8731078.74462476), (6376223.05537524, 6416641.94462476), (13375828.80537524, 13416247.69462476), (18122020.655375242, 18162439.54462476), (13689681.605375241, 13730100.49462476), (6237695.55537524, 6278114.44462476), (13543769.00537524, 13584187.894624759), (9197655.455375241, 9238074.34462476), (12475103.55537524, 12515522.44462476), (14065283.00537524, 14105701.894624759), (7233543.405375239, 7273962.29462476), (13034046.50537524, 13074465.394624759), (6267456.45537524, 6307875.344624761), (9420710.355375241, 9461129.24462476), (13542202.855375241, 13582621.74462476), (9597444.15537524, 9637863.044624759), (11808999.955375241, 11849418.84462476), (5477757.70537524, 5518176.594624761), (9080765.705375241, 9121184.59462476), (8272050.55537524, 8312469.44462476), (5045359.30537524, 5085778.19462476), (8748723.90537524, 8789142.794624759), (14836802.355375241, 14877221.24462476), (8327208.405375239, 8367627.29462476), (9943518.455375241, 9983937.34462476), (8958835.05537524, 8999253.94462476), (10635908.05537524, 10676326.94462476), (10803380.05537524, 10843798.94462476), (5847005.55537524, 5887424.44462476), (11805816.955375241, 11846235.84462476), (9680828.80537524, 9721247.69462476), (9381036.25537524, 9421455.144624759), (9349636.355375241, 9390055.24462476), (11739086.40537524, 11779505.294624759), (8177302.05537524, 8217720.94462476), (12457121.55537524, 12497540.44462476), (7870899.155375239, 7911318.04462476), (10151275.55537524, 10191694.44462476), (12068397.15537524, 12108816.044624759), (9113579.15537524, 9153998.044624759), (16313639.955375241, 16354058.84462476), (6893472.85537524, 6933891.74462476), (12808750.55537524, 12849169.44462476), (10344664.65537524, 10385083.544624759), (15057574.25537524, 15097993.144624759), (3790575.55537524, 3830994.44462476), (10307924.55537524, 10348343.44462476), (6308417.20537524, 6348836.094624761), (7208660.55537524, 7249079.44462476), (7862153.35537524, 7902572.24462476), (10086298.55537524, 10126717.44462476), (20103007.85537524, 20143426.74462476), (10606218.205375241, 10646637.09462476), (8698333.00537524, 8738751.894624759), (9375236.05537524, 9415654.94462476), (11662306.855375241, 11702725.74462476), (13195789.55537524, 13236208.44462476), (8724135.05537524, 8764553.94462476), (12975115.15537524, 13015534.044624759), (10105435.455375241, 10145854.34462476), (11133697.855375241, 11174116.74462476), (11018028.55537524, 11058447.44462476), (9758538.05537524, 9798956.94462476), (11688998.50537524, 11729417.394624759), (5858811.80537524, 5899230.69462476), (11590266.75537524, 11630685.644624759), (6917258.05537524, 6957676.94462476), (8704302.90537524, 8744721.794624759), (5915254.30537524, 5955673.19462476), (10069144.75537524, 10109563.644624759), (8597501.355375241, 8637920.24462476), (17301452.655375242, 17341871.54462476), (17759630.155375242, 17800049.04462476), (13865217.705375241, 13905636.59462476), (14477705.355375241, 14518124.24462476), (13811410.05537524, 13851828.94462476), (12170956.205375241, 12211375.09462476), (7235821.95537524, 7276240.844624761), (8900188.455375241, 8940607.34462476), (10260838.05537524, 10301256.94462476), (12695193.955375241, 12735612.84462476), (11578955.55537524, 11619374.44462476), (19663784.95537524, 19704203.844624758)]\n"
     ]
    }
   ],
   "source": [
    "# calculate the prediction intervals\n",
    "prediction_intervals = []\n",
    "for i in range(len(y1_predict)):\n",
    "    alpha = 0.95\n",
    "    n = len(y1_test)\n",
    "    y1_pred_i = y1_predict[i]\n",
    "    y1_test_i = y1_test.values[i]\n",
    "    sigma = np.sqrt(mean_squared_error(y1_test, y1_predict))\n",
    "    t = 1.96  # t-value for 95% confidence interval with n-1 degrees of freedom\n",
    "    prediction_interval = (y1_pred_i - t * sigma / np.sqrt(n), y1_pred_i + t * sigma / np.sqrt(n))\n",
    "    prediction_intervals.append(prediction_interval)\n",
    "\n",
    "# print the prediction intervals\n",
    "print(prediction_intervals) "
   ]
  },
  {
   "cell_type": "code",
   "execution_count": 63,
   "id": "6c7b6965",
   "metadata": {},
   "outputs": [
    {
     "name": "stdout",
     "output_type": "stream",
     "text": [
      "Prediction house price: [16436393.2]\n",
      "Prediction range of  house price: (array([15503031.86385843]), array([17369754.53614157]))\n"
     ]
    }
   ],
   "source": [
    "# Make a prediction using the model\n",
    "new_features =np.array([[5,1400,4,4,1,2,3,1,16000,5]])\n",
    "prediction = model.predict(new_features)\n",
    "\n",
    "sigma = np.sqrt(mean_squared_error(y1_test, y1_predict))\n",
    "t = 1.96        # t-value for 95% confidence interval with n-1 degrees of freedom\n",
    "prediction_interval = (prediction - t * sigma / 1, prediction + t * sigma /1)\n",
    "\n",
    "\n",
    "print(\"Prediction house price:\", prediction)\n",
    "print('Prediction range of  house price:',prediction_interval)"
   ]
  },
  {
   "cell_type": "code",
   "execution_count": 64,
   "id": "73c0f82f",
   "metadata": {},
   "outputs": [
    {
     "name": "stdout",
     "output_type": "stream",
     "text": [
      "Give a input for 'AREA'\n",
      "for AREA\n",
      "'Karapakkam':0,'Anna Nagar':6, 'Adyar':4, 'Velachery':2, 'Chrompet':1,'KK Nagar':3, 'T Nagar':5 \n",
      "feature 1:0\n",
      "0\n",
      "Give a input for 'INT_SQFT'\n",
      "for'INT_SQFT' input range between 500-2500 \n",
      "feature 2:2000\n",
      "2000\n",
      "Give a input for 'N_BEDROOM'\n",
      "for 'N_BEDROOM' no.s of bedroom\n",
      "feature 3:2\n",
      "2\n",
      "Give a input for 'N_ROOM'\n",
      "for'N_ROOM' no.s of total rooms\n",
      "feature 4:4\n",
      "4\n",
      "Give a input for 'PARK_FACIL'\n",
      "for 'PARK_FACIL'\n",
      "Yes=1\n",
      "N0=0\n",
      "feature 5:1\n",
      "1\n",
      "Give a input for 'BUILDTYPE'\n",
      "for 'BUILDTYPE'\n",
      "'Commercial':2, 'Other':1, 'House':0\n",
      "feature 6:2\n",
      "2\n",
      "Give a input for 'STREET'\n",
      "for 'STREET'type\n",
      "'Paved':1,'Gravel':2,'NoAccess':3\n",
      "feature 7:1\n",
      "1\n",
      "Give a input for 'MZZONE'\n",
      "for 'MZZONE'\n",
      "'A':0, 'RH':4,'RL':3, 'I':1,'C':2,'RM':5\n",
      "feature 8:0\n",
      "0\n",
      "Give a input for 'sold_after_days'\n",
      "for 'sold_after_days'feature put numbers in range 365 to 20000\n",
      "feature 9:900\n",
      "900\n",
      "Give a input for 'registration'\n",
      " for 'registration' percentage select range from 1 to 10 \n",
      "feature 10:1\n",
      "1\n",
      "Prediction house price: [11225307.4]\n",
      "Prediction range of house price is [10291946.06385843] to [12158668.73614157]\n"
     ]
    }
   ],
   "source": [
    "## lets put our own data to predict the house price\n",
    "data=[]\n",
    "for i in range(1,11):\n",
    "    if i==1:\n",
    "        print(\"Give a input for 'AREA'\\nfor AREA\\n'Karapakkam':0,'Anna Nagar':6, 'Adyar':4, 'Velachery':2, 'Chrompet':1,'KK Nagar':3, 'T Nagar':5 \")\n",
    "    if i==2:\n",
    "        print(\"Give a input for 'INT_SQFT'\\nfor'INT_SQFT' input range between 500-2500 \")\n",
    "    if i==3:\n",
    "        print(\"Give a input for 'N_BEDROOM'\\nfor 'N_BEDROOM' no.s of bedroom\")\n",
    "    if i==4:\n",
    "        print(\"Give a input for 'N_ROOM'\\nfor'N_ROOM' no.s of total rooms\")\n",
    "    if i==5:\n",
    "        print(\"Give a input for 'PARK_FACIL'\\nfor 'PARK_FACIL'\\nYes=1\\nN0=0\")\n",
    "    if i==6:\n",
    "        print(\"Give a input for 'BUILDTYPE'\\nfor 'BUILDTYPE'\\n'Commercial':2, 'Other':1, 'House':0\")\n",
    "    if i==7:\n",
    "        print(\"Give a input for 'STREET'\\nfor 'STREET'type\\n'Paved':1,'Gravel':2,'NoAccess':3\")\n",
    "    if i==8:\n",
    "        print(\"Give a input for 'MZZONE'\\nfor 'MZZONE'\\n'A':0, 'RH':4,'RL':3, 'I':1,'C':2,'RM':5\")\n",
    "    if i==9:\n",
    "        print(\"Give a input for 'sold_after_days'\\nfor 'sold_after_days'feature put numbers in range 365 to 20000\")\n",
    "    if i==10:\n",
    "        print(\"Give a input for 'registration'\\n for 'registration' percentage select range from 1 to 10 \")\n",
    "    print(input(f'feature {i}:'))\n",
    "    i=i+1\n",
    "    data.append(i)\n",
    "    \n",
    "# Make a prediction using the model\n",
    "new_features =np.array([data])\n",
    "prediction = model.predict(new_features)\n",
    "\n",
    "sigma = np.sqrt(mean_squared_error(y1_test, y1_predict))\n",
    "t = 1.96        \n",
    "minimum_range = (prediction - t * sigma / 1)\n",
    "maximum_range = (prediction + t * sigma /1)\n",
    "\n",
    "\n",
    "print(\"Prediction house price:\", prediction)\n",
    "print(f'Prediction range of house price is {minimum_range} to {maximum_range}')\n",
    "    "
   ]
  },
  {
   "cell_type": "code",
   "execution_count": null,
   "id": "2c708079",
   "metadata": {},
   "outputs": [],
   "source": []
  }
 ],
 "metadata": {
  "kernelspec": {
   "display_name": "Python 3 (ipykernel)",
   "language": "python",
   "name": "python3"
  },
  "language_info": {
   "codemirror_mode": {
    "name": "ipython",
    "version": 3
   },
   "file_extension": ".py",
   "mimetype": "text/x-python",
   "name": "python",
   "nbconvert_exporter": "python",
   "pygments_lexer": "ipython3",
   "version": "3.9.12"
  }
 },
 "nbformat": 4,
 "nbformat_minor": 5
}
